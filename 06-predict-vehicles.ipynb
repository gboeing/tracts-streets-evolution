{
 "cells": [
  {
   "cell_type": "markdown",
   "metadata": {},
   "source": [
    "spatial error model: interpret coefficient the same as a standard linear OLS. spatial lag or combo model: cannot do so, due to diffusion/spillover effects."
   ]
  },
  {
   "cell_type": "code",
   "execution_count": 1,
   "metadata": {},
   "outputs": [],
   "source": [
    "import geopandas as gpd\n",
    "import numpy as np\n",
    "import pandas as pd\n",
    "import statsmodels.api as sm\n",
    "from pysal.lib import weights\n",
    "from pysal.model import spreg\n",
    "from scipy.stats.mstats import zscore\n",
    "from statsmodels.iolib.summary2 import summary_col\n",
    "from statsmodels.tools.tools import add_constant\n",
    "\n",
    "shp_path = 'data/tracts_shapefile/tracts_shapefile.shp'\n",
    "indicators_path = 'data/tracts_indicators_grades_eras_index.csv'\n",
    "response = 'vehicles_per_household'\n",
    "\n",
    "spat_diag = False"
   ]
  },
  {
   "cell_type": "code",
   "execution_count": 2,
   "metadata": {},
   "outputs": [
    {
     "data": {
      "text/plain": [
       "(72663, 180)"
      ]
     },
     "execution_count": 2,
     "metadata": {},
     "output_type": "execute_result"
    }
   ],
   "source": [
    "df = pd.read_csv(indicators_path, dtype={'geoid':str, 'state':str, 'county':str})\n",
    "df.shape"
   ]
  },
  {
   "cell_type": "code",
   "execution_count": 3,
   "metadata": {},
   "outputs": [
    {
     "data": {
      "text/plain": [
       "(74133, 12)"
      ]
     },
     "execution_count": 3,
     "metadata": {},
     "output_type": "execute_result"
    }
   ],
   "source": [
    "gdf = gpd.read_file(shp_path).set_index('GEOID')\n",
    "gdf.shape"
   ]
  },
  {
   "cell_type": "code",
   "execution_count": 4,
   "metadata": {},
   "outputs": [
    {
     "data": {
      "text/plain": [
       "(46362, 180)"
      ]
     },
     "execution_count": 4,
     "metadata": {},
     "output_type": "execute_result"
    }
   ],
   "source": [
    "# restrict modeling to only urban tracts\n",
    "df = df[df['is_urban'] == 1]\n",
    "df.shape"
   ]
  },
  {
   "cell_type": "code",
   "execution_count": 5,
   "metadata": {},
   "outputs": [
    {
     "data": {
      "text/plain": [
       "vehicles_per_household    1.000000\n",
       "prop_single_fam           0.726769\n",
       "vehicles_per_capita       0.711982\n",
       "prop_drive_alone          0.659034\n",
       "med_rooms_per_home        0.657760\n",
       "available_vehicles        0.535651\n",
       "year_median               0.525279\n",
       "pop_density               0.520453\n",
       "year_mean                 0.512673\n",
       "prop_deadend              0.506544\n",
       "Name: vehicles_per_household, dtype: float64"
      ]
     },
     "execution_count": 5,
     "metadata": {},
     "output_type": "execute_result"
    }
   ],
   "source": [
    "df.corr()[response].abs().sort_values(ascending=False).head(10)"
   ]
  },
  {
   "cell_type": "markdown",
   "metadata": {},
   "source": [
    "## Modeling"
   ]
  },
  {
   "cell_type": "code",
   "execution_count": 6,
   "metadata": {},
   "outputs": [
    {
     "data": {
      "text/plain": [
       "50"
      ]
     },
     "execution_count": 6,
     "metadata": {},
     "output_type": "execute_result"
    }
   ],
   "source": [
    "# identify the era dummies in the dataframe\n",
    "era_primary_dummies = [c for c in df.columns if 'dummy_ztrax_' in c and '_1939_earlier' not in c]\n",
    "\n",
    "# get the state dummies\n",
    "states = df['state_abbrev'].unique()\n",
    "state_dummies = sorted([s for s in states if s != 'CA']) #all but CA\n",
    "len(state_dummies)"
   ]
  },
  {
   "cell_type": "code",
   "execution_count": 7,
   "metadata": {},
   "outputs": [
    {
     "name": "stdout",
     "output_type": "stream",
     "text": [
      "1382\n",
      "Wall time: 27.6 s\n"
     ]
    }
   ],
   "source": [
    "%%time\n",
    "# create county dummies\n",
    "df['st_county'] = df['state'].astype(str) + df['county'].astype(str)\n",
    "counties = df['st_county'].unique()\n",
    "for county in counties:\n",
    "    df[county] = df['st_county'].map(lambda x: 1 if x==county else 0)\n",
    "\n",
    "county_dummies = counties[1:].tolist()\n",
    "#county_dummies = sorted([c for c in counties if c != '06037']) #all but LA county\n",
    "print(len(county_dummies))"
   ]
  },
  {
   "cell_type": "code",
   "execution_count": 8,
   "metadata": {},
   "outputs": [
    {
     "data": {
      "text/plain": [
       "1382"
      ]
     },
     "execution_count": 8,
     "metadata": {},
     "output_type": "execute_result"
    }
   ],
   "source": [
    "# define which dummies to use as the spatial fixed effects\n",
    "# if including both county + state, you'll get colinearity unless you drop one county from each state?\n",
    "fixed_effects = county_dummies #+ state_dummies\n",
    "len(fixed_effects)"
   ]
  },
  {
   "cell_type": "code",
   "execution_count": 9,
   "metadata": {},
   "outputs": [],
   "source": [
    "def get_response_and_design(df, response, predictors, condition_number=True):\n",
    "    \n",
    "    # select predictors and drop any rows with nulls in the response or predictors\n",
    "    df_model = df.replace([np.inf, -np.inf], np.nan).dropna(subset=predictors + [response])\n",
    "\n",
    "    # create design matrix and response vector (and response as matrix for pysal)\n",
    "    X = df_model[predictors]\n",
    "    y = df_model[response]\n",
    "\n",
    "    # drop columns that are constants (to prevent perfect colinearity)\n",
    "    # this happens if a county has no observations, for instance\n",
    "    X = X.loc[:, X.nunique() != 1]\n",
    "    \n",
    "    # what are the geoids of the observations retained in the response vector + design matrix?\n",
    "    geoids = df_model['geoid'].values\n",
    "    \n",
    "    if condition_number:\n",
    "        cn = np.linalg.cond(zscore(X))\n",
    "        return y, X, geoids, cn\n",
    "    else:\n",
    "        return y, X, geoids"
   ]
  },
  {
   "cell_type": "code",
   "execution_count": 10,
   "metadata": {},
   "outputs": [],
   "source": [
    "def make_pysal_table(model, precision=4, ignore=None):\n",
    "    \n",
    "    try:\n",
    "        idx = model.name_z\n",
    "    except:\n",
    "        idx = model.name_x\n",
    "    \n",
    "    z_stat = np.array(model.z_stat)\n",
    "    table = pd.DataFrame({'beta' : model.betas.flatten(),\n",
    "                          's.e.' : model.std_err,\n",
    "                          'z'    : z_stat[:, 0],\n",
    "                          'p'    : z_stat[:, 1]}, \n",
    "                          index=idx)\n",
    "    \n",
    "    if ignore is not None:\n",
    "        to_drop = [c for c in ignore if c in table.index]\n",
    "        table = table.drop(to_drop, axis='rows')\n",
    "    \n",
    "    return table.round(precision)"
   ]
  },
  {
   "cell_type": "markdown",
   "metadata": {},
   "source": [
    "## Model 2\n",
    "\n",
    "grid index + spatial fixed effects"
   ]
  },
  {
   "cell_type": "code",
   "execution_count": 11,
   "metadata": {},
   "outputs": [
    {
     "name": "stdout",
     "output_type": "stream",
     "text": [
      "1.0\n",
      "Wall time: 2.38 s\n"
     ]
    }
   ],
   "source": [
    "%%time\n",
    "regressors1 = ['grid_index']\n",
    "predictors1 = regressors1 #+ fixed_effects\n",
    "y, X, geoids, cn = get_response_and_design(df, response, predictors1)\n",
    "Y = pd.DataFrame(y)\n",
    "print(cn)"
   ]
  },
  {
   "cell_type": "code",
   "execution_count": 12,
   "metadata": {},
   "outputs": [
    {
     "name": "stdout",
     "output_type": "stream",
     "text": [
      "0.22778378998518856\n",
      "Wall time: 49 ms\n"
     ]
    }
   ],
   "source": [
    "%%time\n",
    "# estimate the model with OLS\n",
    "result1 = sm.OLS(y, add_constant(X)).fit()\n",
    "print(result1.rsquared)"
   ]
  },
  {
   "cell_type": "code",
   "execution_count": 13,
   "metadata": {},
   "outputs": [
    {
     "name": "stdout",
     "output_type": "stream",
     "text": [
      "Wall time: 57.3 s\n"
     ]
    }
   ],
   "source": [
    "%%time\n",
    "# calculate spatial weights matrix for spatially-explicit alternative specification\n",
    "W1 = weights.Queen.from_dataframe(gdf.loc[geoids], silence_warnings=True)\n",
    "W1.transform = 'r'"
   ]
  },
  {
   "cell_type": "code",
   "execution_count": 14,
   "metadata": {},
   "outputs": [
    {
     "name": "stdout",
     "output_type": "stream",
     "text": [
      "Wall time: 0 ns\n"
     ]
    }
   ],
   "source": [
    "%%time\n",
    "# first check ols diagnostics to see nature of spatial dependence\n",
    "if spat_diag:\n",
    "    ols = spreg.ols.OLS(y=Y.values, x=X.values, w=W1, spat_diag=True, moran=True)\n",
    "    print(ols.moran_res)\n",
    "    print(ols.rlm_lag, ols.rlm_error)"
   ]
  },
  {
   "cell_type": "code",
   "execution_count": 15,
   "metadata": {},
   "outputs": [
    {
     "name": "stdout",
     "output_type": "stream",
     "text": [
      "n = 45638 R2 = 0.228\n",
      "response = vehicles_per_household\n",
      "              beta    s.e.         z    p\n",
      "CONSTANT    1.9049  0.0074  258.4514  0.0\n",
      "grid_index -0.4867  0.0111  -43.8692  0.0\n",
      "lambda      0.7844  0.0026  302.1510  0.0\n",
      "Wall time: 850 ms\n"
     ]
    }
   ],
   "source": [
    "%%time\n",
    "sp_er_model1 = spreg.GM_Error_Het(y=Y.values, x=X.values, w=W1, name_w='W1',\n",
    "                                  name_x=X.columns.tolist(), name_y=response)\n",
    "table1 = make_pysal_table(sp_er_model1, ignore=fixed_effects)\n",
    "print('n =', len(X), 'R2 =', round(sp_er_model1.pr2, 3))\n",
    "print('response =', y.name)\n",
    "print(table1)"
   ]
  },
  {
   "cell_type": "markdown",
   "metadata": {},
   "source": [
    "## Model 2a\n",
    "\n",
    "grid index + additional controls + spatial fixed effects"
   ]
  },
  {
   "cell_type": "code",
   "execution_count": 16,
   "metadata": {},
   "outputs": [
    {
     "data": {
      "text/plain": [
       "46362"
      ]
     },
     "execution_count": 16,
     "metadata": {},
     "output_type": "execute_result"
    }
   ],
   "source": [
    "# only 2000+ tracts\n",
    "#mask = (df['dummy_primary_prop_2000_09'] == 1) | (df['dummy_primary_prop_2010_later'] == 1)\n",
    "#df = df[mask]\n",
    "len(df)"
   ]
  },
  {
   "cell_type": "code",
   "execution_count": 17,
   "metadata": {},
   "outputs": [
    {
     "name": "stdout",
     "output_type": "stream",
     "text": [
      "185.89881386489756\n",
      "Wall time: 10.3 s\n"
     ]
    }
   ],
   "source": [
    "%%time\n",
    "regressors2 = ['grid_index', #griddedness\n",
    "               'pop_density', 'prop_single_fam', 'med_rooms_per_home', 'mean_household_size', #settlement density/scale\n",
    "               'med_hh_income', 'mean_commute_time', #economic (income and job proximity)\n",
    "               'intersect_density', 'length_mean', #street spatial scale\n",
    "               'grade_mean'] #hilliness\n",
    "predictors2 = regressors2 + fixed_effects\n",
    "y, X, geoids, cn = get_response_and_design(df, response, predictors2)\n",
    "Y = pd.DataFrame(y)\n",
    "print(cn)"
   ]
  },
  {
   "cell_type": "code",
   "execution_count": 18,
   "metadata": {},
   "outputs": [
    {
     "name": "stdout",
     "output_type": "stream",
     "text": [
      "0.8580558126882654\n",
      "Wall time: 15 s\n"
     ]
    }
   ],
   "source": [
    "%%time\n",
    "# estimate the model with OLS\n",
    "result2 = sm.OLS(y, add_constant(X)).fit()\n",
    "print(result2.rsquared)"
   ]
  },
  {
   "cell_type": "code",
   "execution_count": 19,
   "metadata": {},
   "outputs": [
    {
     "name": "stdout",
     "output_type": "stream",
     "text": [
      "Wall time: 52.3 s\n"
     ]
    }
   ],
   "source": [
    "%%time\n",
    "# calculate spatial weights matrix for spatially-explicit alternative specification\n",
    "W2 = weights.Queen.from_dataframe(gdf.loc[geoids], silence_warnings=True)\n",
    "W2.transform = 'r'"
   ]
  },
  {
   "cell_type": "code",
   "execution_count": 20,
   "metadata": {},
   "outputs": [
    {
     "name": "stdout",
     "output_type": "stream",
     "text": [
      "Wall time: 0 ns\n"
     ]
    }
   ],
   "source": [
    "%%time\n",
    "# check ols diagnostics to see nature of spatial dependence\n",
    "if spat_diag:\n",
    "    ols = spreg.ols.OLS(y=Y.values, x=X.values, w=W2, spat_diag=True, moran=True)\n",
    "    print(ols.moran_res)\n",
    "    print(ols.rlm_lag, ols.rlm_error)"
   ]
  },
  {
   "cell_type": "code",
   "execution_count": 21,
   "metadata": {},
   "outputs": [
    {
     "name": "stdout",
     "output_type": "stream",
     "text": [
      "n = 45594 R2 = 0.853\n",
      "response = vehicles_per_household\n",
      "                       beta    s.e.         z       p\n",
      "CONSTANT             0.8150  0.1798    4.5314  0.0000\n",
      "grid_index          -0.1809  0.0069  -26.1874  0.0000\n",
      "pop_density         -0.0055  0.0003  -16.7989  0.0000\n",
      "prop_single_fam      0.4679  0.0065   71.7981  0.0000\n",
      "med_rooms_per_home   0.0269  0.0018   15.3162  0.0000\n",
      "mean_household_size  0.1885  0.0031   60.6500  0.0000\n",
      "med_hh_income        0.0036  0.0001   56.0603  0.0000\n",
      "mean_commute_time   -0.0031  0.0002  -12.6230  0.0000\n",
      "intersect_density   -0.0006  0.0001  -12.7654  0.0000\n",
      "length_mean          0.0003  0.0000    7.4102  0.0000\n",
      "grade_mean          -0.2339  0.1150   -2.0342  0.0419\n",
      "lambda               0.6319  0.0046  137.7427  0.0000\n",
      "Wall time: 15.5 s\n"
     ]
    }
   ],
   "source": [
    "%%time\n",
    "sp_er_model2 = spreg.GM_Error_Het(y=Y.values, x=X.values, w=W2, name_w='W2',\n",
    "                                  name_x=X.columns.tolist(), name_y=response)\n",
    "table2 = make_pysal_table(sp_er_model2, ignore=fixed_effects)\n",
    "print('n =', len(X), 'R2 =', round(sp_er_model2.pr2, 3))\n",
    "print('response =', y.name)\n",
    "print(table2)"
   ]
  },
  {
   "cell_type": "code",
   "execution_count": 22,
   "metadata": {},
   "outputs": [
    {
     "name": "stdout",
     "output_type": "stream",
     "text": [
      "n = 45594 R2 = 0.853\n",
      "response = vehicles_per_household\n",
      "                       beta    s.e.         z       p\n",
      "CONSTANT             0.0091  0.0039    2.3232  0.0202\n",
      "grid_index          -0.0812  0.0031  -26.1874  0.0000\n",
      "pop_density         -0.0635  0.0038  -16.7989  0.0000\n",
      "prop_single_fam      0.2996  0.0042   71.7981  0.0000\n",
      "med_rooms_per_home   0.0725  0.0047   15.3162  0.0000\n",
      "mean_household_size  0.2352  0.0039   60.6500  0.0000\n",
      "med_hh_income        0.2738  0.0049   56.0603  0.0000\n",
      "mean_commute_time   -0.0513  0.0041  -12.6230  0.0000\n",
      "intersect_density   -0.0443  0.0035  -12.7654  0.0000\n",
      "length_mean          0.0219  0.0030    7.4102  0.0000\n",
      "grade_mean          -0.0066  0.0032   -2.0342  0.0419\n",
      "lambda               0.6319  0.0046  137.7427  0.0000\n",
      "Wall time: 14.8 s\n"
     ]
    }
   ],
   "source": [
    "%%time\n",
    "# re-estimate as standardized regression\n",
    "sp_er_model2_std = spreg.GM_Error_Het(y=zscore(Y), x=zscore(X), w=W2, name_w='W2',\n",
    "                                      name_x=X.columns.tolist(), name_y=response)\n",
    "table2_std = make_pysal_table(sp_er_model2_std, ignore=fixed_effects)\n",
    "print('n =', len(X), 'R2 =', round(sp_er_model2_std.pr2, 3))\n",
    "print('response =', y.name)\n",
    "print(table2_std)"
   ]
  },
  {
   "cell_type": "markdown",
   "metadata": {},
   "source": [
    "## Model 2b\n",
    "\n",
    "grid index components + additional controls + spatial fixed effects"
   ]
  },
  {
   "cell_type": "code",
   "execution_count": 23,
   "metadata": {},
   "outputs": [
    {
     "name": "stdout",
     "output_type": "stream",
     "text": [
      "201.72532394781297\n",
      "Wall time: 9.22 s\n"
     ]
    }
   ],
   "source": [
    "%%time\n",
    "regressors3 = ['orientation_order', 'prop_4way', 'straightness', #grid index components\n",
    "               'pop_density', 'prop_single_fam', 'med_rooms_per_home', 'mean_household_size', #settlement density/scale\n",
    "               'med_hh_income', 'mean_commute_time', #economic (income and job proximity)\n",
    "               'intersect_density', 'length_mean', #street spatial scale\n",
    "               'grade_mean'] #hilliness\n",
    "predictors3 = regressors3 + fixed_effects\n",
    "y, X, geoids, cn = get_response_and_design(df, response, predictors3)\n",
    "Y = pd.DataFrame(y)\n",
    "print(cn)"
   ]
  },
  {
   "cell_type": "code",
   "execution_count": 24,
   "metadata": {},
   "outputs": [
    {
     "name": "stdout",
     "output_type": "stream",
     "text": [
      "0.8589490401813067\n",
      "Wall time: 14.9 s\n"
     ]
    }
   ],
   "source": [
    "%%time\n",
    "# estimate the model with OLS\n",
    "result3 = sm.OLS(y, add_constant(X)).fit()\n",
    "print(result3.rsquared)"
   ]
  },
  {
   "cell_type": "code",
   "execution_count": 25,
   "metadata": {},
   "outputs": [
    {
     "name": "stdout",
     "output_type": "stream",
     "text": [
      "Wall time: 1min 1s\n"
     ]
    }
   ],
   "source": [
    "%%time\n",
    "# calculate spatial weights matrix for spatially-explicit alternative specification\n",
    "W3 = weights.Queen.from_dataframe(gdf.loc[geoids], silence_warnings=True)\n",
    "W3.transform = 'r'"
   ]
  },
  {
   "cell_type": "code",
   "execution_count": 26,
   "metadata": {},
   "outputs": [
    {
     "name": "stdout",
     "output_type": "stream",
     "text": [
      "Wall time: 0 ns\n"
     ]
    }
   ],
   "source": [
    "%%time\n",
    "# check ols diagnostics to see nature of spatial dependence\n",
    "if spat_diag:\n",
    "    ols = spreg.ols.OLS(y=Y.values, x=X.values, w=W3, spat_diag=True, moran=True)\n",
    "    print(ols.moran_res)\n",
    "    print(ols.rlm_lag, ols.rlm_error)"
   ]
  },
  {
   "cell_type": "code",
   "execution_count": 27,
   "metadata": {},
   "outputs": [
    {
     "name": "stdout",
     "output_type": "stream",
     "text": [
      "n = 45594 R2 = 0.854\n",
      "response = vehicles_per_household\n",
      "                       beta    s.e.         z       p\n",
      "CONSTANT             0.9868  0.1806    5.4634  0.0000\n",
      "orientation_order   -0.0336  0.0045   -7.4113  0.0000\n",
      "prop_4way           -0.1263  0.0073  -17.4022  0.0000\n",
      "straightness        -0.2215  0.0239   -9.2577  0.0000\n",
      "pop_density         -0.0053  0.0003  -16.2116  0.0000\n",
      "prop_single_fam      0.4716  0.0065   72.6821  0.0000\n",
      "med_rooms_per_home   0.0272  0.0018   15.5083  0.0000\n",
      "mean_household_size  0.1880  0.0031   60.5506  0.0000\n",
      "med_hh_income        0.0036  0.0001   55.8659  0.0000\n",
      "mean_commute_time   -0.0031  0.0002  -12.6301  0.0000\n",
      "intersect_density   -0.0006  0.0001  -12.7543  0.0000\n",
      "length_mean          0.0003  0.0000    7.1797  0.0000\n",
      "grade_mean          -0.2202  0.1149   -1.9167  0.0553\n",
      "lambda               0.6286  0.0046  136.3195  0.0000\n",
      "Wall time: 15.3 s\n"
     ]
    }
   ],
   "source": [
    "%%time\n",
    "sp_er_model3 = spreg.GM_Error_Het(y=Y.values, x=X.values, w=W3, name_w='W3',\n",
    "                                  name_x=X.columns.tolist(), name_y=response)\n",
    "table3 = make_pysal_table(sp_er_model3, ignore=fixed_effects)\n",
    "print('n =', len(X), 'R2 =', round(sp_er_model3.pr2, 3))\n",
    "print('response =', y.name)\n",
    "print(table3)"
   ]
  },
  {
   "cell_type": "code",
   "execution_count": 28,
   "metadata": {},
   "outputs": [
    {
     "name": "stdout",
     "output_type": "stream",
     "text": [
      "n = 45594 R2 = 0.854\n",
      "response = vehicles_per_household\n",
      "                       beta    s.e.         z       p\n",
      "CONSTANT             0.0087  0.0039    2.2450  0.0248\n",
      "orientation_order   -0.0226  0.0031   -7.4113  0.0000\n",
      "prop_4way           -0.0526  0.0030  -17.4022  0.0000\n",
      "straightness        -0.0222  0.0024   -9.2577  0.0000\n",
      "pop_density         -0.0612  0.0038  -16.2116  0.0000\n",
      "prop_single_fam      0.3020  0.0042   72.6821  0.0000\n",
      "med_rooms_per_home   0.0733  0.0047   15.5083  0.0000\n",
      "mean_household_size  0.2346  0.0039   60.5506  0.0000\n",
      "med_hh_income        0.2743  0.0049   55.8659  0.0000\n",
      "mean_commute_time   -0.0513  0.0041  -12.6301  0.0000\n",
      "intersect_density   -0.0439  0.0034  -12.7543  0.0000\n",
      "length_mean          0.0209  0.0029    7.1797  0.0000\n",
      "grade_mean          -0.0062  0.0032   -1.9167  0.0553\n",
      "lambda               0.6286  0.0046  136.3195  0.0000\n",
      "Wall time: 14.8 s\n"
     ]
    }
   ],
   "source": [
    "%%time\n",
    "# re-estimate as standardized regression\n",
    "sp_er_model3_std = spreg.GM_Error_Het(y=zscore(Y), x=zscore(X), w=W3, name_w='W3',\n",
    "                                      name_x=X.columns.tolist(), name_y=response)\n",
    "table3_std = make_pysal_table(sp_er_model3_std, ignore=fixed_effects)\n",
    "print('n =', len(X), 'R2 =', round(sp_er_model3_std.pr2, 3))\n",
    "print('response =', y.name)\n",
    "print(table3_std)"
   ]
  },
  {
   "cell_type": "markdown",
   "metadata": {},
   "source": [
    "## Log-Log (for elasticity)"
   ]
  },
  {
   "cell_type": "code",
   "execution_count": 29,
   "metadata": {},
   "outputs": [],
   "source": [
    "df_log = df.copy()\n",
    "df_log['grid_index_log'] = np.log(df_log['grid_index'])\n",
    "df_log[response + '_log'] = np.log(df_log[response])"
   ]
  },
  {
   "cell_type": "code",
   "execution_count": 30,
   "metadata": {},
   "outputs": [
    {
     "name": "stdout",
     "output_type": "stream",
     "text": [
      "185.30444398688346\n",
      "Wall time: 9.71 s\n"
     ]
    }
   ],
   "source": [
    "%%time\n",
    "regressors_log = ['grid_index_log', #griddedness\n",
    "               'pop_density', 'prop_single_fam', 'med_rooms_per_home', 'mean_household_size', #settlement density/scale\n",
    "               'med_hh_income', 'mean_commute_time', #economic (income and job proximity)\n",
    "               'intersect_density', 'length_mean', #street spatial scale\n",
    "               'grade_mean'] #hilliness\n",
    "predictors_log = regressors_log + fixed_effects\n",
    "y_log, X_log, geoids, cn = get_response_and_design(df_log, response + '_log', predictors_log)\n",
    "Y_log = pd.DataFrame(y_log)\n",
    "print(cn)"
   ]
  },
  {
   "cell_type": "code",
   "execution_count": 31,
   "metadata": {},
   "outputs": [
    {
     "name": "stdout",
     "output_type": "stream",
     "text": [
      "Wall time: 54.9 s\n"
     ]
    }
   ],
   "source": [
    "%%time\n",
    "# calculate spatial weights matrix for spatially-explicit alternative specification\n",
    "W_log = weights.Queen.from_dataframe(gdf.loc[geoids], silence_warnings=True)\n",
    "W_log.transform = 'r'"
   ]
  },
  {
   "cell_type": "code",
   "execution_count": 32,
   "metadata": {},
   "outputs": [
    {
     "name": "stdout",
     "output_type": "stream",
     "text": [
      "0.8207154638120562\n",
      "                       beta    s.e.         z       p\n",
      "CONSTANT            -0.0810  0.1083   -0.7479  0.4545\n",
      "grid_index_log      -0.0316  0.0024  -13.0004  0.0000\n",
      "pop_density         -0.0097  0.0006  -15.2286  0.0000\n",
      "prop_single_fam      0.2735  0.0050   54.1870  0.0000\n",
      "med_rooms_per_home   0.0115  0.0015    7.6990  0.0000\n",
      "mean_household_size  0.1287  0.0026   49.9644  0.0000\n",
      "med_hh_income        0.0026  0.0001   41.1741  0.0000\n",
      "mean_commute_time   -0.0031  0.0002  -12.7671  0.0000\n",
      "intersect_density   -0.0003  0.0001   -6.2019  0.0000\n",
      "length_mean          0.0002  0.0000    4.9316  0.0000\n",
      "grade_mean           0.1588  0.1057    1.5026  0.1329\n",
      "lambda               0.6815  0.0059  115.3337  0.0000\n",
      "Wall time: 14.7 s\n"
     ]
    }
   ],
   "source": [
    "%%time\n",
    "sp_er_model_log = spreg.GM_Error_Het(y=Y_log.values, x=X_log.values, w=W_log, name_w='W_log',\n",
    "                                     name_x=X_log.columns.tolist(), name_y=response + '_log')\n",
    "table_log = make_pysal_table(sp_er_model_log, ignore=fixed_effects)\n",
    "print(sp_er_model_log.pr2)\n",
    "print(table_log)"
   ]
  },
  {
   "cell_type": "markdown",
   "metadata": {},
   "source": [
    "## Results table"
   ]
  },
  {
   "cell_type": "code",
   "execution_count": 33,
   "metadata": {},
   "outputs": [
    {
     "name": "stdout",
     "output_type": "stream",
     "text": [
      "45594 0.8534081829955339\n",
      "45594 0.8543088196769005\n"
     ]
    }
   ],
   "source": [
    "print(sp_er_model2.n, sp_er_model2.pr2)\n",
    "print(sp_er_model3.n, sp_er_model3.pr2)"
   ]
  },
  {
   "cell_type": "code",
   "execution_count": 34,
   "metadata": {},
   "outputs": [
    {
     "data": {
      "text/html": [
       "<div>\n",
       "<style scoped>\n",
       "    .dataframe tbody tr th:only-of-type {\n",
       "        vertical-align: middle;\n",
       "    }\n",
       "\n",
       "    .dataframe tbody tr th {\n",
       "        vertical-align: top;\n",
       "    }\n",
       "\n",
       "    .dataframe thead th {\n",
       "        text-align: right;\n",
       "    }\n",
       "</style>\n",
       "<table border=\"1\" class=\"dataframe\">\n",
       "  <thead>\n",
       "    <tr style=\"text-align: right;\">\n",
       "      <th></th>\n",
       "      <th>beta_x</th>\n",
       "      <th>s.e._x</th>\n",
       "      <th>z_x</th>\n",
       "      <th>p_x</th>\n",
       "      <th>beta_y</th>\n",
       "      <th>s.e._y</th>\n",
       "      <th>z_y</th>\n",
       "      <th>p_y</th>\n",
       "    </tr>\n",
       "  </thead>\n",
       "  <tbody>\n",
       "    <tr>\n",
       "      <th>CONSTANT</th>\n",
       "      <td>0.8150</td>\n",
       "      <td>0.1798</td>\n",
       "      <td>4.5314</td>\n",
       "      <td>&lt;0.0001</td>\n",
       "      <td>0.9868</td>\n",
       "      <td>0.1806</td>\n",
       "      <td>5.4634</td>\n",
       "      <td>&lt;0.0001</td>\n",
       "    </tr>\n",
       "    <tr>\n",
       "      <th>grid_index</th>\n",
       "      <td>-0.1809</td>\n",
       "      <td>0.0069</td>\n",
       "      <td>-26.1874</td>\n",
       "      <td>&lt;0.0001</td>\n",
       "      <td></td>\n",
       "      <td></td>\n",
       "      <td></td>\n",
       "      <td></td>\n",
       "    </tr>\n",
       "    <tr>\n",
       "      <th>pop_density</th>\n",
       "      <td>-0.0055</td>\n",
       "      <td>0.0003</td>\n",
       "      <td>-16.7989</td>\n",
       "      <td>&lt;0.0001</td>\n",
       "      <td>-0.0053</td>\n",
       "      <td>0.0003</td>\n",
       "      <td>-16.2116</td>\n",
       "      <td>&lt;0.0001</td>\n",
       "    </tr>\n",
       "    <tr>\n",
       "      <th>prop_single_fam</th>\n",
       "      <td>0.4679</td>\n",
       "      <td>0.0065</td>\n",
       "      <td>71.7981</td>\n",
       "      <td>&lt;0.0001</td>\n",
       "      <td>0.4716</td>\n",
       "      <td>0.0065</td>\n",
       "      <td>72.6821</td>\n",
       "      <td>&lt;0.0001</td>\n",
       "    </tr>\n",
       "    <tr>\n",
       "      <th>med_rooms_per_home</th>\n",
       "      <td>0.0269</td>\n",
       "      <td>0.0018</td>\n",
       "      <td>15.3162</td>\n",
       "      <td>&lt;0.0001</td>\n",
       "      <td>0.0272</td>\n",
       "      <td>0.0018</td>\n",
       "      <td>15.5083</td>\n",
       "      <td>&lt;0.0001</td>\n",
       "    </tr>\n",
       "    <tr>\n",
       "      <th>mean_household_size</th>\n",
       "      <td>0.1885</td>\n",
       "      <td>0.0031</td>\n",
       "      <td>60.6500</td>\n",
       "      <td>&lt;0.0001</td>\n",
       "      <td>0.1880</td>\n",
       "      <td>0.0031</td>\n",
       "      <td>60.5506</td>\n",
       "      <td>&lt;0.0001</td>\n",
       "    </tr>\n",
       "    <tr>\n",
       "      <th>med_hh_income</th>\n",
       "      <td>0.0036</td>\n",
       "      <td>0.0001</td>\n",
       "      <td>56.0603</td>\n",
       "      <td>&lt;0.0001</td>\n",
       "      <td>0.0036</td>\n",
       "      <td>0.0001</td>\n",
       "      <td>55.8659</td>\n",
       "      <td>&lt;0.0001</td>\n",
       "    </tr>\n",
       "    <tr>\n",
       "      <th>mean_commute_time</th>\n",
       "      <td>-0.0031</td>\n",
       "      <td>0.0002</td>\n",
       "      <td>-12.6230</td>\n",
       "      <td>&lt;0.0001</td>\n",
       "      <td>-0.0031</td>\n",
       "      <td>0.0002</td>\n",
       "      <td>-12.6301</td>\n",
       "      <td>&lt;0.0001</td>\n",
       "    </tr>\n",
       "    <tr>\n",
       "      <th>intersect_density</th>\n",
       "      <td>-0.0006</td>\n",
       "      <td>0.0001</td>\n",
       "      <td>-12.7654</td>\n",
       "      <td>&lt;0.0001</td>\n",
       "      <td>-0.0006</td>\n",
       "      <td>0.0001</td>\n",
       "      <td>-12.7543</td>\n",
       "      <td>&lt;0.0001</td>\n",
       "    </tr>\n",
       "    <tr>\n",
       "      <th>length_mean</th>\n",
       "      <td>0.0003</td>\n",
       "      <td>&lt;0.0001</td>\n",
       "      <td>7.4102</td>\n",
       "      <td>&lt;0.0001</td>\n",
       "      <td>0.0003</td>\n",
       "      <td>&lt;0.0001</td>\n",
       "      <td>7.1797</td>\n",
       "      <td>&lt;0.0001</td>\n",
       "    </tr>\n",
       "    <tr>\n",
       "      <th>grade_mean</th>\n",
       "      <td>-0.2339</td>\n",
       "      <td>0.1150</td>\n",
       "      <td>-2.0342</td>\n",
       "      <td>0.0419</td>\n",
       "      <td>-0.2202</td>\n",
       "      <td>0.1149</td>\n",
       "      <td>-1.9167</td>\n",
       "      <td>0.0553</td>\n",
       "    </tr>\n",
       "    <tr>\n",
       "      <th>orientation_order</th>\n",
       "      <td></td>\n",
       "      <td></td>\n",
       "      <td></td>\n",
       "      <td></td>\n",
       "      <td>-0.0336</td>\n",
       "      <td>0.0045</td>\n",
       "      <td>-7.4113</td>\n",
       "      <td>&lt;0.0001</td>\n",
       "    </tr>\n",
       "    <tr>\n",
       "      <th>prop_4way</th>\n",
       "      <td></td>\n",
       "      <td></td>\n",
       "      <td></td>\n",
       "      <td></td>\n",
       "      <td>-0.1263</td>\n",
       "      <td>0.0073</td>\n",
       "      <td>-17.4022</td>\n",
       "      <td>&lt;0.0001</td>\n",
       "    </tr>\n",
       "    <tr>\n",
       "      <th>straightness</th>\n",
       "      <td></td>\n",
       "      <td></td>\n",
       "      <td></td>\n",
       "      <td></td>\n",
       "      <td>-0.2215</td>\n",
       "      <td>0.0239</td>\n",
       "      <td>-9.2577</td>\n",
       "      <td>&lt;0.0001</td>\n",
       "    </tr>\n",
       "    <tr>\n",
       "      <th>lambda</th>\n",
       "      <td>0.6319</td>\n",
       "      <td>0.0046</td>\n",
       "      <td>137.7427</td>\n",
       "      <td>&lt;0.0001</td>\n",
       "      <td>0.6286</td>\n",
       "      <td>0.0046</td>\n",
       "      <td>136.3195</td>\n",
       "      <td>&lt;0.0001</td>\n",
       "    </tr>\n",
       "  </tbody>\n",
       "</table>\n",
       "</div>"
      ],
      "text/plain": [
       "                      beta_x   s.e._x       z_x      p_x   beta_y   s.e._y  \\\n",
       "CONSTANT              0.8150   0.1798    4.5314  <0.0001   0.9868   0.1806   \n",
       "grid_index           -0.1809   0.0069  -26.1874  <0.0001                     \n",
       "pop_density          -0.0055   0.0003  -16.7989  <0.0001  -0.0053   0.0003   \n",
       "prop_single_fam       0.4679   0.0065   71.7981  <0.0001   0.4716   0.0065   \n",
       "med_rooms_per_home    0.0269   0.0018   15.3162  <0.0001   0.0272   0.0018   \n",
       "mean_household_size   0.1885   0.0031   60.6500  <0.0001   0.1880   0.0031   \n",
       "med_hh_income         0.0036   0.0001   56.0603  <0.0001   0.0036   0.0001   \n",
       "mean_commute_time    -0.0031   0.0002  -12.6230  <0.0001  -0.0031   0.0002   \n",
       "intersect_density    -0.0006   0.0001  -12.7654  <0.0001  -0.0006   0.0001   \n",
       "length_mean           0.0003  <0.0001    7.4102  <0.0001   0.0003  <0.0001   \n",
       "grade_mean           -0.2339   0.1150   -2.0342   0.0419  -0.2202   0.1149   \n",
       "orientation_order                                         -0.0336   0.0045   \n",
       "prop_4way                                                 -0.1263   0.0073   \n",
       "straightness                                              -0.2215   0.0239   \n",
       "lambda                0.6319   0.0046  137.7427  <0.0001   0.6286   0.0046   \n",
       "\n",
       "                          z_y      p_y  \n",
       "CONSTANT               5.4634  <0.0001  \n",
       "grid_index                              \n",
       "pop_density          -16.2116  <0.0001  \n",
       "prop_single_fam       72.6821  <0.0001  \n",
       "med_rooms_per_home    15.5083  <0.0001  \n",
       "mean_household_size   60.5506  <0.0001  \n",
       "med_hh_income         55.8659  <0.0001  \n",
       "mean_commute_time    -12.6301  <0.0001  \n",
       "intersect_density    -12.7543  <0.0001  \n",
       "length_mean            7.1797  <0.0001  \n",
       "grade_mean            -1.9167   0.0553  \n",
       "orientation_order     -7.4113  <0.0001  \n",
       "prop_4way            -17.4022  <0.0001  \n",
       "straightness          -9.2577  <0.0001  \n",
       "lambda               136.3195  <0.0001  "
      ]
     },
     "execution_count": 34,
     "metadata": {},
     "output_type": "execute_result"
    }
   ],
   "source": [
    "# spatially explicit estimates\n",
    "def str_format(x):\n",
    "    if pd.isnull(x):\n",
    "        return ' '\n",
    "    elif np.abs(x) < 0.0001:\n",
    "        return '<0.0001'\n",
    "    else:\n",
    "        return f'{x:0.4f}'\n",
    "    \n",
    "regressors = pd.Series(['CONSTANT'] + regressors2 + regressors3 + ['lambda']).drop_duplicates(keep='first').tolist()\n",
    "table = pd.merge(left=table2, right=table3, left_index=True, right_index=True, how='outer').reindex(regressors)\n",
    "table = table.applymap(str_format)\n",
    "table.to_csv('data/table2.csv', index=True)\n",
    "table"
   ]
  },
  {
   "cell_type": "code",
   "execution_count": 35,
   "metadata": {},
   "outputs": [
    {
     "name": "stdout",
     "output_type": "stream",
     "text": [
      "0.2278\n",
      "0.8581\n",
      "0.8589\n"
     ]
    },
    {
     "data": {
      "text/html": [
       "<table class=\"simpletable\">\n",
       "<tr>\n",
       "           <td></td>           <th>vehicles_per_household I</th> <th>vehicles_per_household II</th> <th>vehicles_per_household III</th>\n",
       "</tr>\n",
       "<tr>\n",
       "  <th>const</th>                       <td>2.1651***</td>                <td>0.8271***</td>                  <td>1.1625***</td>        \n",
       "</tr>\n",
       "<tr>\n",
       "  <th></th>                            <td>(0.0048)</td>                 <td>(0.0775)</td>                   <td>(0.0809)</td>         \n",
       "</tr>\n",
       "<tr>\n",
       "  <th>grid_index</th>                 <td>-1.0639***</td>               <td>-0.3002***</td>                      <td></td>             \n",
       "</tr>\n",
       "<tr>\n",
       "  <th></th>                            <td>(0.0092)</td>                 <td>(0.0063)</td>                       <td></td>             \n",
       "</tr>\n",
       "<tr>\n",
       "  <th>pop_density</th>                     <td></td>                    <td>-0.0082***</td>                 <td>-0.0079***</td>        \n",
       "</tr>\n",
       "<tr>\n",
       "  <th></th>                                <td></td>                     <td>(0.0003)</td>                   <td>(0.0003)</td>         \n",
       "</tr>\n",
       "<tr>\n",
       "  <th>prop_single_fam</th>                 <td></td>                     <td>0.4958***</td>                  <td>0.5009***</td>        \n",
       "</tr>\n",
       "<tr>\n",
       "  <th></th>                                <td></td>                     <td>(0.0055)</td>                   <td>(0.0055)</td>         \n",
       "</tr>\n",
       "<tr>\n",
       "  <th>med_rooms_per_home</th>              <td></td>                     <td>0.0210***</td>                  <td>0.0220***</td>        \n",
       "</tr>\n",
       "<tr>\n",
       "  <th></th>                                <td></td>                     <td>(0.0016)</td>                   <td>(0.0016)</td>         \n",
       "</tr>\n",
       "<tr>\n",
       "  <th>mean_household_size</th>             <td></td>                     <td>0.2027***</td>                  <td>0.2009***</td>        \n",
       "</tr>\n",
       "<tr>\n",
       "  <th></th>                                <td></td>                     <td>(0.0021)</td>                   <td>(0.0021)</td>         \n",
       "</tr>\n",
       "<tr>\n",
       "  <th>med_hh_income</th>                   <td></td>                     <td>0.0036***</td>                  <td>0.0036***</td>        \n",
       "</tr>\n",
       "<tr>\n",
       "  <th></th>                                <td></td>                     <td>(0.0000)</td>                   <td>(0.0000)</td>         \n",
       "</tr>\n",
       "<tr>\n",
       "  <th>mean_commute_time</th>               <td></td>                    <td>-0.0029***</td>                 <td>-0.0028***</td>        \n",
       "</tr>\n",
       "<tr>\n",
       "  <th></th>                                <td></td>                     <td>(0.0002)</td>                   <td>(0.0002)</td>         \n",
       "</tr>\n",
       "<tr>\n",
       "  <th>intersect_density</th>               <td></td>                    <td>-0.0011***</td>                 <td>-0.0010***</td>        \n",
       "</tr>\n",
       "<tr>\n",
       "  <th></th>                                <td></td>                     <td>(0.0000)</td>                   <td>(0.0000)</td>         \n",
       "</tr>\n",
       "<tr>\n",
       "  <th>length_mean</th>                     <td></td>                     <td>0.0003***</td>                  <td>0.0003***</td>        \n",
       "</tr>\n",
       "<tr>\n",
       "  <th></th>                                <td></td>                     <td>(0.0000)</td>                   <td>(0.0000)</td>         \n",
       "</tr>\n",
       "<tr>\n",
       "  <th>grade_mean</th>                      <td></td>                    <td>-1.4000***</td>                 <td>-1.2910***</td>        \n",
       "</tr>\n",
       "<tr>\n",
       "  <th></th>                                <td></td>                     <td>(0.0996)</td>                   <td>(0.0999)</td>         \n",
       "</tr>\n",
       "<tr>\n",
       "  <th>orientation_order</th>               <td></td>                         <td></td>                      <td>-0.0434***</td>        \n",
       "</tr>\n",
       "<tr>\n",
       "  <th></th>                                <td></td>                         <td></td>                       <td>(0.0047)</td>         \n",
       "</tr>\n",
       "<tr>\n",
       "  <th>prop_4way</th>                       <td></td>                         <td></td>                      <td>-0.2059***</td>        \n",
       "</tr>\n",
       "<tr>\n",
       "  <th></th>                                <td></td>                         <td></td>                       <td>(0.0071)</td>         \n",
       "</tr>\n",
       "<tr>\n",
       "  <th>straightness</th>                    <td></td>                         <td></td>                      <td>-0.4278***</td>        \n",
       "</tr>\n",
       "<tr>\n",
       "  <th></th>                                <td></td>                         <td></td>                       <td>(0.0261)</td>         \n",
       "</tr>\n",
       "</table>"
      ],
      "text/plain": [
       "<class 'statsmodels.iolib.summary2.Summary'>\n",
       "\"\"\"\n",
       "\n",
       "=================================================================================================\n",
       "                    vehicles_per_household I vehicles_per_household II vehicles_per_household III\n",
       "-------------------------------------------------------------------------------------------------\n",
       "const               2.1651***                0.8271***                 1.1625***                 \n",
       "                    (0.0048)                 (0.0775)                  (0.0809)                  \n",
       "grid_index          -1.0639***               -0.3002***                                          \n",
       "                    (0.0092)                 (0.0063)                                            \n",
       "pop_density                                  -0.0082***                -0.0079***                \n",
       "                                             (0.0003)                  (0.0003)                  \n",
       "prop_single_fam                              0.4958***                 0.5009***                 \n",
       "                                             (0.0055)                  (0.0055)                  \n",
       "med_rooms_per_home                           0.0210***                 0.0220***                 \n",
       "                                             (0.0016)                  (0.0016)                  \n",
       "mean_household_size                          0.2027***                 0.2009***                 \n",
       "                                             (0.0021)                  (0.0021)                  \n",
       "med_hh_income                                0.0036***                 0.0036***                 \n",
       "                                             (0.0000)                  (0.0000)                  \n",
       "mean_commute_time                            -0.0029***                -0.0028***                \n",
       "                                             (0.0002)                  (0.0002)                  \n",
       "intersect_density                            -0.0011***                -0.0010***                \n",
       "                                             (0.0000)                  (0.0000)                  \n",
       "length_mean                                  0.0003***                 0.0003***                 \n",
       "                                             (0.0000)                  (0.0000)                  \n",
       "grade_mean                                   -1.4000***                -1.2910***                \n",
       "                                             (0.0996)                  (0.0999)                  \n",
       "orientation_order                                                      -0.0434***                \n",
       "                                                                       (0.0047)                  \n",
       "prop_4way                                                              -0.2059***                \n",
       "                                                                       (0.0071)                  \n",
       "straightness                                                           -0.4278***                \n",
       "                                                                       (0.0261)                  \n",
       "=================================================================================================\n",
       "Standard errors in parentheses.\n",
       "* p<.1, ** p<.05, ***p<.01\n",
       "\"\"\""
      ]
     },
     "execution_count": 35,
     "metadata": {},
     "output_type": "execute_result"
    }
   ],
   "source": [
    "# plain old OLS estimates and R2s\n",
    "results = [result1, result2, result3]\n",
    "regressors = pd.Series(['const'] + regressors1 + regressors2 + regressors3).drop_duplicates(keep='first').tolist()\n",
    "for result in results:\n",
    "    print(round(result.rsquared, 4))\n",
    "summary_col(results=results, regressor_order=regressors, drop_omitted=True, stars=True)"
   ]
  },
  {
   "cell_type": "code",
   "execution_count": null,
   "metadata": {},
   "outputs": [],
   "source": []
  }
 ],
 "metadata": {
  "kernelspec": {
   "display_name": "Python (ox)",
   "language": "python",
   "name": "ox"
  },
  "language_info": {
   "codemirror_mode": {
    "name": "ipython",
    "version": 3
   },
   "file_extension": ".py",
   "mimetype": "text/x-python",
   "name": "python",
   "nbconvert_exporter": "python",
   "pygments_lexer": "ipython3",
   "version": "3.8.1"
  }
 },
 "nbformat": 4,
 "nbformat_minor": 4
}
