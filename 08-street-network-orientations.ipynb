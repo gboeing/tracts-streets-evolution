{
 "cells": [
  {
   "cell_type": "code",
   "execution_count": 1,
   "metadata": {},
   "outputs": [
    {
     "data": {
      "text/plain": [
       "'0.11.3'"
      ]
     },
     "execution_count": 1,
     "metadata": {},
     "output_type": "execute_result"
    }
   ],
   "source": [
    "import matplotlib.pyplot as plt\n",
    "import numpy as np\n",
    "import osmnx as ox\n",
    "import pandas as pd\n",
    "\n",
    "ox.config(log_console=True, use_cache=True)\n",
    "ox.__version__"
   ]
  },
  {
   "cell_type": "code",
   "execution_count": 2,
   "metadata": {},
   "outputs": [],
   "source": [
    "# define the study sites as label : query\n",
    "places = {'Boston'        : 'Boston, MA, USA',\n",
    "          'Charlotte'     : 'Charlotte, NC, USA',\n",
    "          'Chicago'       : 'Chicago, IL, USA',\n",
    "          'Detroit'       : 'Detroit, MI, USA',\n",
    "          'Manhattan'     : 'Manhattan, NYC, NY, USA',\n",
    "          'Miami'         : 'Miami, FL, USA',\n",
    "          'New Orleans'   : 'New Orleans, LA, USA',\n",
    "          'Philadelphia'  : 'Philadelphia, PA, USA',\n",
    "          'San Francisco' : {'city':'San Francisco', 'state':'CA', 'country':'USA'},\n",
    "          'St Louis'      : 'St. Louis, MO, USA'}"
   ]
  },
  {
   "cell_type": "code",
   "execution_count": 3,
   "metadata": {},
   "outputs": [
    {
     "data": {
      "text/html": [
       "<div>\n",
       "<style scoped>\n",
       "    .dataframe tbody tr th:only-of-type {\n",
       "        vertical-align: middle;\n",
       "    }\n",
       "\n",
       "    .dataframe tbody tr th {\n",
       "        vertical-align: top;\n",
       "    }\n",
       "\n",
       "    .dataframe thead th {\n",
       "        text-align: right;\n",
       "    }\n",
       "</style>\n",
       "<table border=\"1\" class=\"dataframe\">\n",
       "  <thead>\n",
       "    <tr style=\"text-align: right;\">\n",
       "      <th></th>\n",
       "      <th>geometry</th>\n",
       "      <th>place_name</th>\n",
       "      <th>bbox_north</th>\n",
       "      <th>bbox_south</th>\n",
       "      <th>bbox_east</th>\n",
       "      <th>bbox_west</th>\n",
       "    </tr>\n",
       "  </thead>\n",
       "  <tbody>\n",
       "    <tr>\n",
       "      <th>0</th>\n",
       "      <td>POLYGON ((-71.19126 42.28284, -71.19107 42.282...</td>\n",
       "      <td>Boston, Suffolk County, Massachusetts, United ...</td>\n",
       "      <td>42.396977</td>\n",
       "      <td>42.227911</td>\n",
       "      <td>-70.804488</td>\n",
       "      <td>-71.191260</td>\n",
       "    </tr>\n",
       "    <tr>\n",
       "      <th>1</th>\n",
       "      <td>POLYGON ((-81.00955 35.15144, -81.00953 35.151...</td>\n",
       "      <td>Charlotte, Mecklenburg County, North Carolina,...</td>\n",
       "      <td>35.393133</td>\n",
       "      <td>35.013174</td>\n",
       "      <td>-80.670104</td>\n",
       "      <td>-81.009554</td>\n",
       "    </tr>\n",
       "    <tr>\n",
       "      <th>2</th>\n",
       "      <td>POLYGON ((-87.94010 42.00093, -87.94003 41.998...</td>\n",
       "      <td>Chicago, Cook County, Illinois, United States ...</td>\n",
       "      <td>42.023040</td>\n",
       "      <td>41.644531</td>\n",
       "      <td>-87.524081</td>\n",
       "      <td>-87.940101</td>\n",
       "    </tr>\n",
       "    <tr>\n",
       "      <th>3</th>\n",
       "      <td>POLYGON ((-83.28796 42.44268, -83.28785 42.442...</td>\n",
       "      <td>Detroit, Wayne County, Michigan, United States...</td>\n",
       "      <td>42.450243</td>\n",
       "      <td>42.255192</td>\n",
       "      <td>-82.910439</td>\n",
       "      <td>-83.287959</td>\n",
       "    </tr>\n",
       "    <tr>\n",
       "      <th>4</th>\n",
       "      <td>MULTIPOLYGON (((-74.04722 40.69086, -74.04722 ...</td>\n",
       "      <td>Manhattan, New York County, New York, United S...</td>\n",
       "      <td>40.880449</td>\n",
       "      <td>40.683941</td>\n",
       "      <td>-73.906159</td>\n",
       "      <td>-74.047222</td>\n",
       "    </tr>\n",
       "    <tr>\n",
       "      <th>5</th>\n",
       "      <td>POLYGON ((-80.31976 25.76249, -80.31968 25.762...</td>\n",
       "      <td>Miami, Miami-Dade County, Florida, USA</td>\n",
       "      <td>25.855783</td>\n",
       "      <td>25.709052</td>\n",
       "      <td>-80.139157</td>\n",
       "      <td>-80.319760</td>\n",
       "    </tr>\n",
       "    <tr>\n",
       "      <th>6</th>\n",
       "      <td>POLYGON ((-90.14003 29.94838, -90.13993 29.932...</td>\n",
       "      <td>New Orleans, Orleans Parish, Louisiana, USA</td>\n",
       "      <td>30.199469</td>\n",
       "      <td>29.865481</td>\n",
       "      <td>-89.625176</td>\n",
       "      <td>-90.140030</td>\n",
       "    </tr>\n",
       "    <tr>\n",
       "      <th>7</th>\n",
       "      <td>POLYGON ((-75.28030 39.97500, -75.28022 39.974...</td>\n",
       "      <td>Philadelphia, Philadelphia County, Pennsylvani...</td>\n",
       "      <td>40.137959</td>\n",
       "      <td>39.867005</td>\n",
       "      <td>-74.955831</td>\n",
       "      <td>-75.280298</td>\n",
       "    </tr>\n",
       "    <tr>\n",
       "      <th>8</th>\n",
       "      <td>MULTIPOLYGON (((-123.17382 37.77573, -123.1737...</td>\n",
       "      <td>San Francisco, San Francisco City and County, ...</td>\n",
       "      <td>37.929844</td>\n",
       "      <td>37.640314</td>\n",
       "      <td>-122.280016</td>\n",
       "      <td>-123.173825</td>\n",
       "    </tr>\n",
       "    <tr>\n",
       "      <th>9</th>\n",
       "      <td>POLYGON ((-90.32065 38.59420, -90.31636 38.584...</td>\n",
       "      <td>St. Louis, City of Saint Louis, Missouri, Unit...</td>\n",
       "      <td>38.774340</td>\n",
       "      <td>38.532322</td>\n",
       "      <td>-90.166292</td>\n",
       "      <td>-90.320652</td>\n",
       "    </tr>\n",
       "  </tbody>\n",
       "</table>\n",
       "</div>"
      ],
      "text/plain": [
       "                                            geometry  \\\n",
       "0  POLYGON ((-71.19126 42.28284, -71.19107 42.282...   \n",
       "1  POLYGON ((-81.00955 35.15144, -81.00953 35.151...   \n",
       "2  POLYGON ((-87.94010 42.00093, -87.94003 41.998...   \n",
       "3  POLYGON ((-83.28796 42.44268, -83.28785 42.442...   \n",
       "4  MULTIPOLYGON (((-74.04722 40.69086, -74.04722 ...   \n",
       "5  POLYGON ((-80.31976 25.76249, -80.31968 25.762...   \n",
       "6  POLYGON ((-90.14003 29.94838, -90.13993 29.932...   \n",
       "7  POLYGON ((-75.28030 39.97500, -75.28022 39.974...   \n",
       "8  MULTIPOLYGON (((-123.17382 37.77573, -123.1737...   \n",
       "9  POLYGON ((-90.32065 38.59420, -90.31636 38.584...   \n",
       "\n",
       "                                          place_name  bbox_north  bbox_south  \\\n",
       "0  Boston, Suffolk County, Massachusetts, United ...   42.396977   42.227911   \n",
       "1  Charlotte, Mecklenburg County, North Carolina,...   35.393133   35.013174   \n",
       "2  Chicago, Cook County, Illinois, United States ...   42.023040   41.644531   \n",
       "3  Detroit, Wayne County, Michigan, United States...   42.450243   42.255192   \n",
       "4  Manhattan, New York County, New York, United S...   40.880449   40.683941   \n",
       "5             Miami, Miami-Dade County, Florida, USA   25.855783   25.709052   \n",
       "6        New Orleans, Orleans Parish, Louisiana, USA   30.199469   29.865481   \n",
       "7  Philadelphia, Philadelphia County, Pennsylvani...   40.137959   39.867005   \n",
       "8  San Francisco, San Francisco City and County, ...   37.929844   37.640314   \n",
       "9  St. Louis, City of Saint Louis, Missouri, Unit...   38.774340   38.532322   \n",
       "\n",
       "    bbox_east   bbox_west  \n",
       "0  -70.804488  -71.191260  \n",
       "1  -80.670104  -81.009554  \n",
       "2  -87.524081  -87.940101  \n",
       "3  -82.910439  -83.287959  \n",
       "4  -73.906159  -74.047222  \n",
       "5  -80.139157  -80.319760  \n",
       "6  -89.625176  -90.140030  \n",
       "7  -74.955831  -75.280298  \n",
       "8 -122.280016 -123.173825  \n",
       "9  -90.166292  -90.320652  "
      ]
     },
     "execution_count": 3,
     "metadata": {},
     "output_type": "execute_result"
    }
   ],
   "source": [
    "# verify OSMnx geocodes each query to what you expect\n",
    "gdf = ox.gdf_from_places(places.values())\n",
    "gdf"
   ]
  },
  {
   "cell_type": "markdown",
   "metadata": {},
   "source": [
    "## Get the street networks and their edge bearings"
   ]
  },
  {
   "cell_type": "code",
   "execution_count": 4,
   "metadata": {},
   "outputs": [],
   "source": [
    "def reverse_bearing(x):\n",
    "    return x + 180 if x < 180 else x - 180"
   ]
  },
  {
   "cell_type": "code",
   "execution_count": 5,
   "metadata": {},
   "outputs": [],
   "source": [
    "bearings = {}\n",
    "for place in sorted(places.keys()):\n",
    "    \n",
    "    # get the graph\n",
    "    query = places[place]\n",
    "    G = ox.graph_from_place(query, network_type='drive')\n",
    "    \n",
    "    # calculate edge bearings on undirected graph\n",
    "    Gu = ox.add_edge_bearings(ox.get_undirected(G))\n",
    "    b = pd.Series([d['bearing'] for u, v, k, d in Gu.edges(keys=True, data=True)])\n",
    "    bearings[place] = pd.concat([b, b.map(reverse_bearing)]).reset_index(drop='True')"
   ]
  },
  {
   "cell_type": "markdown",
   "metadata": {},
   "source": [
    "## Visualize it"
   ]
  },
  {
   "cell_type": "code",
   "execution_count": 6,
   "metadata": {},
   "outputs": [],
   "source": [
    "def count_and_merge(n, bearings):\n",
    "    # make twice as many bins as desired, then merge them in pairs\n",
    "    # prevents bin-edge effects around common values like 0° and 90°\n",
    "    n = n * 2\n",
    "    bins = np.arange(n + 1) * 360 / n\n",
    "    count, _ = np.histogram(bearings, bins=bins)\n",
    "    \n",
    "    # move the last bin to the front, so eg 0.01° and 359.99° will be binned together\n",
    "    count = np.roll(count, 1)\n",
    "    return count[::2] + count[1::2]"
   ]
  },
  {
   "cell_type": "code",
   "execution_count": 7,
   "metadata": {},
   "outputs": [],
   "source": [
    "# function to draw a polar histogram for a set of edge bearings\n",
    "def polar_plot(ax, bearings, n=36, title=''):\n",
    "\n",
    "    bins = np.arange(n + 1) * 360 / n\n",
    "    count = count_and_merge(n, bearings)\n",
    "    _, division = np.histogram(bearings, bins=bins)\n",
    "    frequency = count / count.sum()\n",
    "    division = division[0:-1]\n",
    "    width =  2 * np.pi / n\n",
    "\n",
    "    ax.set_theta_zero_location('N')\n",
    "    ax.set_theta_direction('clockwise')\n",
    "\n",
    "    x = division * np.pi / 180\n",
    "    bars = ax.bar(x, height=frequency, width=width, align='center', bottom=0, zorder=2,\n",
    "                  color='#003366', edgecolor='k', linewidth=0.5, alpha=0.7)\n",
    "    \n",
    "    ax.set_ylim(top=frequency.max())\n",
    "    \n",
    "    title_font = {'family':'Arial', 'size':24, 'weight':'bold'}\n",
    "    xtick_font = {'family':'Arial', 'size':10, 'weight':'bold', 'alpha':1.0, 'zorder':3}\n",
    "    ytick_font = {'family':'Arial', 'size': 9, 'weight':'bold', 'alpha':0.2, 'zorder':3}\n",
    "    \n",
    "    ax.set_title(title.upper(), y=1.05, fontdict=title_font)\n",
    "    \n",
    "    ax.set_yticks(np.linspace(0, max(ax.get_ylim()), 5))\n",
    "    yticklabels = ['{:.2f}'.format(y) for y in ax.get_yticks()]\n",
    "    yticklabels[0] = ''\n",
    "    ax.set_yticklabels(labels=yticklabels, fontdict=ytick_font)\n",
    "    \n",
    "    xticklabels = ['N', '', 'E', '', 'S', '', 'W', '']\n",
    "    ax.set_xticklabels(labels=xticklabels, fontdict=xtick_font)\n",
    "    ax.tick_params(axis='x', which='major', pad=-2)"
   ]
  },
  {
   "cell_type": "code",
   "execution_count": 8,
   "metadata": {},
   "outputs": [
    {
     "name": "stderr",
     "output_type": "stream",
     "text": [
      "findfont: Font family ['Arial'] not found. Falling back to DejaVu Sans.\n",
      "findfont: Font family ['Arial'] not found. Falling back to DejaVu Sans.\n",
      "findfont: Font family ['Arial'] not found. Falling back to DejaVu Sans.\n"
     ]
    }
   ],
   "source": [
    "ncols = 5\n",
    "nrows = 2\n",
    "figsize = (ncols * 5, nrows * 5)\n",
    "fig, axes = plt.subplots(nrows, ncols, figsize=figsize, subplot_kw={'projection':'polar'})\n",
    "\n",
    "# plot each city's polar histogram\n",
    "for ax, place in zip(axes.flat, sorted(places.keys())):\n",
    "    polar_plot(ax, bearings[place].dropna(), title=place)\n",
    "\n",
    "fig.tight_layout()\n",
    "fig.subplots_adjust(hspace=0.35)\n",
    "fig.savefig('images/street-orientations.png', dpi=120, bbox_inches='tight')\n",
    "plt.close()"
   ]
  },
  {
   "cell_type": "code",
   "execution_count": null,
   "metadata": {},
   "outputs": [],
   "source": []
  }
 ],
 "metadata": {
  "kernelspec": {
   "display_name": "Python (ox)",
   "language": "python",
   "name": "ox"
  },
  "language_info": {
   "codemirror_mode": {
    "name": "ipython",
    "version": 3
   },
   "file_extension": ".py",
   "mimetype": "text/x-python",
   "name": "python",
   "nbconvert_exporter": "python",
   "pygments_lexer": "ipython3",
   "version": "3.7.6"
  }
 },
 "nbformat": 4,
 "nbformat_minor": 4
}
