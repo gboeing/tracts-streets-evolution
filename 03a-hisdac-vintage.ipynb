{
 "cells": [
  {
   "cell_type": "code",
   "execution_count": 1,
   "metadata": {},
   "outputs": [],
   "source": [
    "import geopandas as gpd\n",
    "import numpy as np\n",
    "import pandas as pd\n",
    "import rasterio\n",
    "from rasterio import features as rf\n",
    "%matplotlib inline\n",
    "\n",
    "ztrax_data_filepath = 'data/ZTRAX-vintage/FBUY.tif'\n",
    "tracts_shapefile_path = 'data/tracts_shapefile'\n",
    "output_filepath = 'data/ztrax_years.csv'"
   ]
  },
  {
   "cell_type": "code",
   "execution_count": 2,
   "metadata": {},
   "outputs": [
    {
     "name": "stdout",
     "output_type": "stream",
     "text": [
      "1 18459 11615\n",
      "BoundingBox(left=-2356398.7592963483, bottom=269249.2873629322, right=2258351.2407036517, top=3172999.287362932)\n",
      "Wall time: 40 ms\n"
     ]
    }
   ],
   "source": [
    "%%time\n",
    "# load the raster and convert to vector geodataframe\n",
    "results = []\n",
    "tif_file = rasterio.open(ztrax_data_filepath)\n",
    "    \n",
    "print(tif_file.count, tif_file.width, tif_file.height)\n",
    "print(tif_file.bounds)"
   ]
  },
  {
   "cell_type": "code",
   "execution_count": 3,
   "metadata": {},
   "outputs": [],
   "source": [
    "tif_crs = tif_file.crs\n",
    "affine = tif_file.meta.get('transform')\n",
    "band = tif_file.read(1).astype(int)"
   ]
  },
  {
   "cell_type": "code",
   "execution_count": 4,
   "metadata": {},
   "outputs": [
    {
     "data": {
      "text/plain": [
       "0       201820910\n",
       "1         2614442\n",
       "1810        22134\n",
       "1815         4240\n",
       "1820        11283\n",
       "1825         6400\n",
       "1830        14694\n",
       "1835         6934\n",
       "1840        19710\n",
       "1845         6591\n",
       "1850        48652\n",
       "1855         9478\n",
       "1860        35420\n",
       "1865        15854\n",
       "1870        40911\n",
       "1875        28480\n",
       "1880        82445\n",
       "1885        29181\n",
       "1890       105996\n",
       "1895        34845\n",
       "1900       379354\n",
       "1905        92383\n",
       "1910       160151\n",
       "1915        96940\n",
       "1920       259127\n",
       "1925       144943\n",
       "1930       261376\n",
       "1935       130569\n",
       "1940       314064\n",
       "1945       177341\n",
       "1950       446286\n",
       "1955       353382\n",
       "1960       487316\n",
       "1965       446839\n",
       "1970       545807\n",
       "1975       674462\n",
       "1980       770543\n",
       "1985       552698\n",
       "1990       630729\n",
       "1995       608398\n",
       "2000       735502\n",
       "2005       628228\n",
       "2010       393989\n",
       "2015       152258\n",
       "dtype: int64"
      ]
     },
     "execution_count": 4,
     "metadata": {},
     "output_type": "execute_result"
    }
   ],
   "source": [
    "df = pd.DataFrame(band)\n",
    "df.stack().value_counts().sort_index()"
   ]
  },
  {
   "cell_type": "code",
   "execution_count": 5,
   "metadata": {},
   "outputs": [],
   "source": [
    "mask = (df > 1800).values"
   ]
  },
  {
   "cell_type": "code",
   "execution_count": 6,
   "metadata": {},
   "outputs": [
    {
     "name": "stdout",
     "output_type": "stream",
     "text": [
      "Wall time: 1.03 ms\n"
     ]
    }
   ],
   "source": [
    "%%time\n",
    "shapes = rf.shapes(band, mask=mask, transform=affine)\n",
    "#print(len(list(shapes)))"
   ]
  },
  {
   "cell_type": "code",
   "execution_count": 7,
   "metadata": {},
   "outputs": [
    {
     "name": "stdout",
     "output_type": "stream",
     "text": [
      "Wall time: 1min 30s\n"
     ]
    },
    {
     "data": {
      "text/plain": [
       "7751549"
      ]
     },
     "execution_count": 7,
     "metadata": {},
     "output_type": "execute_result"
    }
   ],
   "source": [
    "%%time\n",
    "for geometry, date in rf.shapes(band, mask=mask, transform=affine):\n",
    "    results.append({'properties': {'date': date}, 'geometry': geometry})\n",
    "len(results)"
   ]
  },
  {
   "cell_type": "code",
   "execution_count": 8,
   "metadata": {},
   "outputs": [
    {
     "name": "stdout",
     "output_type": "stream",
     "text": [
      "(7751549, 2)\n",
      "Wall time: 55.8 s\n"
     ]
    }
   ],
   "source": [
    "%%time\n",
    "gdf_tif = gpd.GeoDataFrame.from_features(results)\n",
    "gdf_tif.crs = tif_crs\n",
    "print(gdf_tif.shape)"
   ]
  },
  {
   "cell_type": "code",
   "execution_count": 9,
   "metadata": {},
   "outputs": [
    {
     "data": {
      "text/html": [
       "<div>\n",
       "<style scoped>\n",
       "    .dataframe tbody tr th:only-of-type {\n",
       "        vertical-align: middle;\n",
       "    }\n",
       "\n",
       "    .dataframe tbody tr th {\n",
       "        vertical-align: top;\n",
       "    }\n",
       "\n",
       "    .dataframe thead th {\n",
       "        text-align: right;\n",
       "    }\n",
       "</style>\n",
       "<table border=\"1\" class=\"dataframe\">\n",
       "  <thead>\n",
       "    <tr style=\"text-align: right;\">\n",
       "      <th></th>\n",
       "      <th>geometry</th>\n",
       "      <th>date</th>\n",
       "    </tr>\n",
       "  </thead>\n",
       "  <tbody>\n",
       "    <tr>\n",
       "      <td>7519793</td>\n",
       "      <td>POLYGON ((70351.24070365168 734249.2873629322,...</td>\n",
       "      <td>1960</td>\n",
       "    </tr>\n",
       "    <tr>\n",
       "      <td>4610879</td>\n",
       "      <td>POLYGON ((1676851.240703652 1563499.287362932,...</td>\n",
       "      <td>1960</td>\n",
       "    </tr>\n",
       "    <tr>\n",
       "      <td>1410542</td>\n",
       "      <td>POLYGON ((-57148.75929634832 2282749.287362932...</td>\n",
       "      <td>1890</td>\n",
       "    </tr>\n",
       "    <tr>\n",
       "      <td>3819832</td>\n",
       "      <td>POLYGON ((1307851.240703652 1771499.287362932,...</td>\n",
       "      <td>1920</td>\n",
       "    </tr>\n",
       "    <tr>\n",
       "      <td>4837536</td>\n",
       "      <td>POLYGON ((1057601.240703652 1519249.287362932,...</td>\n",
       "      <td>1935</td>\n",
       "    </tr>\n",
       "  </tbody>\n",
       "</table>\n",
       "</div>"
      ],
      "text/plain": [
       "                                                  geometry  date\n",
       "7519793  POLYGON ((70351.24070365168 734249.2873629322,...  1960\n",
       "4610879  POLYGON ((1676851.240703652 1563499.287362932,...  1960\n",
       "1410542  POLYGON ((-57148.75929634832 2282749.287362932...  1890\n",
       "3819832  POLYGON ((1307851.240703652 1771499.287362932,...  1920\n",
       "4837536  POLYGON ((1057601.240703652 1519249.287362932,...  1935"
      ]
     },
     "execution_count": 9,
     "metadata": {},
     "output_type": "execute_result"
    }
   ],
   "source": [
    "gdf_tif['date'] = gdf_tif['date'].astype(int)\n",
    "gdf_tif.sample(5)"
   ]
  },
  {
   "cell_type": "code",
   "execution_count": 10,
   "metadata": {},
   "outputs": [
    {
     "name": "stdout",
     "output_type": "stream",
     "text": [
      "Wall time: 8.22 s\n"
     ]
    },
    {
     "data": {
      "text/plain": [
       "(74133, 13)"
      ]
     },
     "execution_count": 10,
     "metadata": {},
     "output_type": "execute_result"
    }
   ],
   "source": [
    "%%time\n",
    "# load tracts shapefile\n",
    "tracts = gpd.read_file(tracts_shapefile_path)\n",
    "tracts.shape"
   ]
  },
  {
   "cell_type": "code",
   "execution_count": 11,
   "metadata": {},
   "outputs": [
    {
     "name": "stdout",
     "output_type": "stream",
     "text": [
      "False\n",
      "True\n",
      "Wall time: 17.7 s\n"
     ]
    }
   ],
   "source": [
    "%%time\n",
    "# project tracts to raster's CRS if they're not already the same\n",
    "print(tracts.crs == gdf_tif.crs)\n",
    "if tracts.crs != gdf_tif.crs:\n",
    "    tracts = tracts.to_crs(gdf_tif.crs)\n",
    "print(tracts.crs == gdf_tif.crs)"
   ]
  },
  {
   "cell_type": "code",
   "execution_count": 12,
   "metadata": {},
   "outputs": [
    {
     "name": "stdout",
     "output_type": "stream",
     "text": [
      "(74133, 2)\n",
      "(7751549, 2)\n"
     ]
    }
   ],
   "source": [
    "# use only tract GEOID and geometry for the spatial join\n",
    "gdf_tracts = tracts[['GEOID', 'geometry']]\n",
    "print(gdf_tracts.shape)\n",
    "print(gdf_tif.shape)"
   ]
  },
  {
   "cell_type": "code",
   "execution_count": 13,
   "metadata": {},
   "outputs": [
    {
     "name": "stdout",
     "output_type": "stream",
     "text": [
      "(8970239, 4)\n",
      "Wall time: 18min 46s\n"
     ]
    }
   ],
   "source": [
    "%%time\n",
    "# spatial join each grid cell to the tract(s) it intersects\n",
    "# this attaches tract geoid to each grid cell\n",
    "gdf = gpd.sjoin(gdf_tif, gdf_tracts, how='left', op='intersects')\n",
    "print(gdf.shape)"
   ]
  },
  {
   "cell_type": "markdown",
   "metadata": {},
   "source": [
    "Some sq km grid cells overlap with multiple census tracts. Some census tracts overlap with multiple sq km grid cells. Group by census tract then calculate the mean value across the grid cells with which it intersects."
   ]
  },
  {
   "cell_type": "code",
   "execution_count": 14,
   "metadata": {},
   "outputs": [
    {
     "data": {
      "text/plain": [
       "count    68758.00\n",
       "mean       130.46\n",
       "std        201.05\n",
       "min          1.00\n",
       "25%         20.00\n",
       "50%         44.00\n",
       "75%        135.00\n",
       "max       1906.00\n",
       "Name: date, dtype: float64"
      ]
     },
     "execution_count": 14,
     "metadata": {},
     "output_type": "execute_result"
    }
   ],
   "source": [
    "# typical tract (median) overlaps 44 grid cells\n",
    "groups = gdf.groupby('GEOID')['date']\n",
    "groups.count().describe().round(2)"
   ]
  },
  {
   "cell_type": "code",
   "execution_count": 15,
   "metadata": {},
   "outputs": [],
   "source": [
    "# calculate the mean year across the grid cells with which each tract intersects\n",
    "tract_year_mean = groups.mean()\n",
    "tract_year_median = groups.median()\n",
    "tract_year_min = groups.min()\n",
    "tract_year_std = groups.std()"
   ]
  },
  {
   "cell_type": "code",
   "execution_count": 16,
   "metadata": {},
   "outputs": [],
   "source": [
    "year_cols = ['year_min', 'year_median', 'year_mean', 'year_std']\n",
    "data = [tract_year_min, tract_year_median, tract_year_mean, tract_year_std]\n",
    "tract_year = pd.DataFrame(data, index=year_cols).T"
   ]
  },
  {
   "cell_type": "code",
   "execution_count": 17,
   "metadata": {},
   "outputs": [
    {
     "data": {
      "text/html": [
       "<div>\n",
       "<style scoped>\n",
       "    .dataframe tbody tr th:only-of-type {\n",
       "        vertical-align: middle;\n",
       "    }\n",
       "\n",
       "    .dataframe tbody tr th {\n",
       "        vertical-align: top;\n",
       "    }\n",
       "\n",
       "    .dataframe thead th {\n",
       "        text-align: right;\n",
       "    }\n",
       "</style>\n",
       "<table border=\"1\" class=\"dataframe\">\n",
       "  <thead>\n",
       "    <tr style=\"text-align: right;\">\n",
       "      <th></th>\n",
       "      <th>year_min</th>\n",
       "      <th>year_median</th>\n",
       "      <th>year_mean</th>\n",
       "      <th>year_std</th>\n",
       "      <th>year_mean_std</th>\n",
       "    </tr>\n",
       "  </thead>\n",
       "  <tbody>\n",
       "    <tr>\n",
       "      <td>count</td>\n",
       "      <td>68758.000000</td>\n",
       "      <td>68758.000000</td>\n",
       "      <td>68758.000000</td>\n",
       "      <td>68330.000000</td>\n",
       "      <td>68330.000000</td>\n",
       "    </tr>\n",
       "    <tr>\n",
       "      <td>mean</td>\n",
       "      <td>1883.123346</td>\n",
       "      <td>1950.962506</td>\n",
       "      <td>1948.955848</td>\n",
       "      <td>26.642609</td>\n",
       "      <td>1922.285771</td>\n",
       "    </tr>\n",
       "    <tr>\n",
       "      <td>std</td>\n",
       "      <td>44.983157</td>\n",
       "      <td>31.340781</td>\n",
       "      <td>29.136767</td>\n",
       "      <td>11.813116</td>\n",
       "      <td>33.192354</td>\n",
       "    </tr>\n",
       "    <tr>\n",
       "      <td>min</td>\n",
       "      <td>1810.000000</td>\n",
       "      <td>1810.000000</td>\n",
       "      <td>1810.000000</td>\n",
       "      <td>0.000000</td>\n",
       "      <td>1769.614178</td>\n",
       "    </tr>\n",
       "    <tr>\n",
       "      <td>25%</td>\n",
       "      <td>1850.000000</td>\n",
       "      <td>1930.000000</td>\n",
       "      <td>1930.937500</td>\n",
       "      <td>18.177004</td>\n",
       "      <td>1900.336879</td>\n",
       "    </tr>\n",
       "    <tr>\n",
       "      <td>50%</td>\n",
       "      <td>1890.000000</td>\n",
       "      <td>1957.500000</td>\n",
       "      <td>1953.750000</td>\n",
       "      <td>25.597764</td>\n",
       "      <td>1924.554178</td>\n",
       "    </tr>\n",
       "    <tr>\n",
       "      <td>75%</td>\n",
       "      <td>1910.000000</td>\n",
       "      <td>1975.000000</td>\n",
       "      <td>1970.899943</td>\n",
       "      <td>33.811506</td>\n",
       "      <td>1946.335204</td>\n",
       "    </tr>\n",
       "    <tr>\n",
       "      <td>max</td>\n",
       "      <td>2015.000000</td>\n",
       "      <td>2015.000000</td>\n",
       "      <td>2015.000000</td>\n",
       "      <td>137.885822</td>\n",
       "      <td>2010.446582</td>\n",
       "    </tr>\n",
       "  </tbody>\n",
       "</table>\n",
       "</div>"
      ],
      "text/plain": [
       "           year_min   year_median     year_mean      year_std  year_mean_std\n",
       "count  68758.000000  68758.000000  68758.000000  68330.000000   68330.000000\n",
       "mean    1883.123346   1950.962506   1948.955848     26.642609    1922.285771\n",
       "std       44.983157     31.340781     29.136767     11.813116      33.192354\n",
       "min     1810.000000   1810.000000   1810.000000      0.000000    1769.614178\n",
       "25%     1850.000000   1930.000000   1930.937500     18.177004    1900.336879\n",
       "50%     1890.000000   1957.500000   1953.750000     25.597764    1924.554178\n",
       "75%     1910.000000   1975.000000   1970.899943     33.811506    1946.335204\n",
       "max     2015.000000   2015.000000   2015.000000    137.885822    2010.446582"
      ]
     },
     "execution_count": 17,
     "metadata": {},
     "output_type": "execute_result"
    }
   ],
   "source": [
    "tract_year['year_mean_std'] = tract_year['year_mean'] - tract_year['year_std']\n",
    "tract_year.describe()"
   ]
  },
  {
   "cell_type": "code",
   "execution_count": 18,
   "metadata": {},
   "outputs": [
    {
     "data": {
      "text/html": [
       "<div>\n",
       "<style scoped>\n",
       "    .dataframe tbody tr th:only-of-type {\n",
       "        vertical-align: middle;\n",
       "    }\n",
       "\n",
       "    .dataframe tbody tr th {\n",
       "        vertical-align: top;\n",
       "    }\n",
       "\n",
       "    .dataframe thead th {\n",
       "        text-align: right;\n",
       "    }\n",
       "</style>\n",
       "<table border=\"1\" class=\"dataframe\">\n",
       "  <thead>\n",
       "    <tr style=\"text-align: right;\">\n",
       "      <th></th>\n",
       "      <th>year_min</th>\n",
       "      <th>year_median</th>\n",
       "      <th>year_mean</th>\n",
       "      <th>year_std</th>\n",
       "      <th>year_mean_std</th>\n",
       "    </tr>\n",
       "    <tr>\n",
       "      <th>GEOID</th>\n",
       "      <th></th>\n",
       "      <th></th>\n",
       "      <th></th>\n",
       "      <th></th>\n",
       "      <th></th>\n",
       "    </tr>\n",
       "  </thead>\n",
       "  <tbody>\n",
       "    <tr>\n",
       "      <td>17031803604</td>\n",
       "      <td>1895</td>\n",
       "      <td>1967</td>\n",
       "      <td>1958</td>\n",
       "      <td>27</td>\n",
       "      <td>1931</td>\n",
       "    </tr>\n",
       "    <tr>\n",
       "      <td>06031001402</td>\n",
       "      <td>1900</td>\n",
       "      <td>1930</td>\n",
       "      <td>1933</td>\n",
       "      <td>25</td>\n",
       "      <td>1908</td>\n",
       "    </tr>\n",
       "    <tr>\n",
       "      <td>49049000801</td>\n",
       "      <td>1885</td>\n",
       "      <td>1945</td>\n",
       "      <td>1945</td>\n",
       "      <td>25</td>\n",
       "      <td>1920</td>\n",
       "    </tr>\n",
       "    <tr>\n",
       "      <td>45041000101</td>\n",
       "      <td>1870</td>\n",
       "      <td>1980</td>\n",
       "      <td>1978</td>\n",
       "      <td>26</td>\n",
       "      <td>1952</td>\n",
       "    </tr>\n",
       "    <tr>\n",
       "      <td>41071030702</td>\n",
       "      <td>1860</td>\n",
       "      <td>1940</td>\n",
       "      <td>1942</td>\n",
       "      <td>37</td>\n",
       "      <td>1904</td>\n",
       "    </tr>\n",
       "    <tr>\n",
       "      <td>06075031302</td>\n",
       "      <td>1905</td>\n",
       "      <td>1912</td>\n",
       "      <td>1918</td>\n",
       "      <td>15</td>\n",
       "      <td>1903</td>\n",
       "    </tr>\n",
       "    <tr>\n",
       "      <td>42071014000</td>\n",
       "      <td>1810</td>\n",
       "      <td>1965</td>\n",
       "      <td>1942</td>\n",
       "      <td>52</td>\n",
       "      <td>1890</td>\n",
       "    </tr>\n",
       "    <tr>\n",
       "      <td>06109005100</td>\n",
       "      <td>1855</td>\n",
       "      <td>1975</td>\n",
       "      <td>1973</td>\n",
       "      <td>26</td>\n",
       "      <td>1946</td>\n",
       "    </tr>\n",
       "    <tr>\n",
       "      <td>29183311801</td>\n",
       "      <td>1840</td>\n",
       "      <td>1975</td>\n",
       "      <td>1971</td>\n",
       "      <td>30</td>\n",
       "      <td>1940</td>\n",
       "    </tr>\n",
       "    <tr>\n",
       "      <td>47011010200</td>\n",
       "      <td>1900</td>\n",
       "      <td>1955</td>\n",
       "      <td>1955</td>\n",
       "      <td>26</td>\n",
       "      <td>1928</td>\n",
       "    </tr>\n",
       "  </tbody>\n",
       "</table>\n",
       "</div>"
      ],
      "text/plain": [
       "             year_min  year_median  year_mean  year_std  year_mean_std\n",
       "GEOID                                                                 \n",
       "17031803604      1895         1967       1958        27           1931\n",
       "06031001402      1900         1930       1933        25           1908\n",
       "49049000801      1885         1945       1945        25           1920\n",
       "45041000101      1870         1980       1978        26           1952\n",
       "41071030702      1860         1940       1942        37           1904\n",
       "06075031302      1905         1912       1918        15           1903\n",
       "42071014000      1810         1965       1942        52           1890\n",
       "06109005100      1855         1975       1973        26           1946\n",
       "29183311801      1840         1975       1971        30           1940\n",
       "47011010200      1900         1955       1955        26           1928"
      ]
     },
     "execution_count": 18,
     "metadata": {},
     "output_type": "execute_result"
    }
   ],
   "source": [
    "np.random.seed(0)\n",
    "tract_year.sample(10).astype(int)"
   ]
  },
  {
   "cell_type": "markdown",
   "metadata": {},
   "source": [
    "## Merge years with tract indicators then save to disk"
   ]
  },
  {
   "cell_type": "code",
   "execution_count": 19,
   "metadata": {},
   "outputs": [
    {
     "data": {
      "text/html": [
       "<div>\n",
       "<style scoped>\n",
       "    .dataframe tbody tr th:only-of-type {\n",
       "        vertical-align: middle;\n",
       "    }\n",
       "\n",
       "    .dataframe tbody tr th {\n",
       "        vertical-align: top;\n",
       "    }\n",
       "\n",
       "    .dataframe thead th {\n",
       "        text-align: right;\n",
       "    }\n",
       "</style>\n",
       "<table border=\"1\" class=\"dataframe\">\n",
       "  <thead>\n",
       "    <tr style=\"text-align: right;\">\n",
       "      <th></th>\n",
       "      <th>year_min</th>\n",
       "      <th>year_median</th>\n",
       "      <th>year_mean</th>\n",
       "      <th>year_std</th>\n",
       "      <th>year_mean_std</th>\n",
       "    </tr>\n",
       "    <tr>\n",
       "      <th>GEOID</th>\n",
       "      <th></th>\n",
       "      <th></th>\n",
       "      <th></th>\n",
       "      <th></th>\n",
       "      <th></th>\n",
       "    </tr>\n",
       "  </thead>\n",
       "  <tbody>\n",
       "    <tr>\n",
       "      <td>01001020100</td>\n",
       "      <td>1825.0</td>\n",
       "      <td>1955.0</td>\n",
       "      <td>1949.056604</td>\n",
       "      <td>37.576039</td>\n",
       "      <td>1911.480565</td>\n",
       "    </tr>\n",
       "    <tr>\n",
       "      <td>01001020200</td>\n",
       "      <td>1830.0</td>\n",
       "      <td>1927.5</td>\n",
       "      <td>1923.362069</td>\n",
       "      <td>41.795114</td>\n",
       "      <td>1881.566955</td>\n",
       "    </tr>\n",
       "    <tr>\n",
       "      <td>01001020300</td>\n",
       "      <td>1865.0</td>\n",
       "      <td>1955.0</td>\n",
       "      <td>1951.858974</td>\n",
       "      <td>31.355823</td>\n",
       "      <td>1920.503151</td>\n",
       "    </tr>\n",
       "    <tr>\n",
       "      <td>01001020400</td>\n",
       "      <td>1870.0</td>\n",
       "      <td>1965.0</td>\n",
       "      <td>1965.703125</td>\n",
       "      <td>23.022887</td>\n",
       "      <td>1942.680238</td>\n",
       "    </tr>\n",
       "    <tr>\n",
       "      <td>01001020500</td>\n",
       "      <td>1890.0</td>\n",
       "      <td>1990.0</td>\n",
       "      <td>1984.791667</td>\n",
       "      <td>21.484313</td>\n",
       "      <td>1963.307354</td>\n",
       "    </tr>\n",
       "  </tbody>\n",
       "</table>\n",
       "</div>"
      ],
      "text/plain": [
       "             year_min  year_median    year_mean   year_std  year_mean_std\n",
       "GEOID                                                                    \n",
       "01001020100    1825.0       1955.0  1949.056604  37.576039    1911.480565\n",
       "01001020200    1830.0       1927.5  1923.362069  41.795114    1881.566955\n",
       "01001020300    1865.0       1955.0  1951.858974  31.355823    1920.503151\n",
       "01001020400    1870.0       1965.0  1965.703125  23.022887    1942.680238\n",
       "01001020500    1890.0       1990.0  1984.791667  21.484313    1963.307354"
      ]
     },
     "execution_count": 19,
     "metadata": {},
     "output_type": "execute_result"
    }
   ],
   "source": [
    "ztrax_years = pd.DataFrame(tract_year)\n",
    "ztrax_years.head()"
   ]
  },
  {
   "cell_type": "code",
   "execution_count": 20,
   "metadata": {},
   "outputs": [],
   "source": [
    "ztrax_years.to_csv(output_filepath, index=True, encoding='utf-8')"
   ]
  },
  {
   "cell_type": "code",
   "execution_count": null,
   "metadata": {},
   "outputs": [],
   "source": []
  }
 ],
 "metadata": {
  "kernelspec": {
   "display_name": "Python (ox)",
   "language": "python",
   "name": "ox"
  },
  "language_info": {
   "codemirror_mode": {
    "name": "ipython",
    "version": 3
   },
   "file_extension": ".py",
   "mimetype": "text/x-python",
   "name": "python",
   "nbconvert_exporter": "python",
   "pygments_lexer": "ipython3",
   "version": "3.7.6"
  }
 },
 "nbformat": 4,
 "nbformat_minor": 4
}
