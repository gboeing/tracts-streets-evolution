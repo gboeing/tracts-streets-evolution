{
 "cells": [
  {
   "cell_type": "code",
   "execution_count": 1,
   "metadata": {},
   "outputs": [],
   "source": [
    "import geopandas as gpd\n",
    "import numpy as np\n",
    "import pandas as pd\n",
    "import statsmodels.api as sm\n",
    "from pysal.lib import weights\n",
    "from pysal.model import spreg\n",
    "from scipy.stats.mstats import zscore\n",
    "from statsmodels.iolib.summary2 import summary_col\n",
    "from statsmodels.tools.tools import add_constant\n",
    "np.random.seed(0)\n",
    "\n",
    "shp_path = 'data/tracts_shapefile/tracts_shapefile.shp'\n",
    "indicators_path = 'data/tracts_indicators_grades_eras_index.csv'\n",
    "response = 'grid_index'\n",
    "\n",
    "spat_diag = False"
   ]
  },
  {
   "cell_type": "code",
   "execution_count": 2,
   "metadata": {},
   "outputs": [
    {
     "data": {
      "text/plain": [
       "(72663, 180)"
      ]
     },
     "execution_count": 2,
     "metadata": {},
     "output_type": "execute_result"
    }
   ],
   "source": [
    "df = pd.read_csv(indicators_path, dtype={'geoid':str, 'state':str, 'county':str})\n",
    "df.shape"
   ]
  },
  {
   "cell_type": "code",
   "execution_count": 3,
   "metadata": {},
   "outputs": [
    {
     "data": {
      "text/plain": [
       "(74133, 12)"
      ]
     },
     "execution_count": 3,
     "metadata": {},
     "output_type": "execute_result"
    }
   ],
   "source": [
    "gdf = gpd.read_file(shp_path).set_index('GEOID')\n",
    "gdf.shape"
   ]
  },
  {
   "cell_type": "code",
   "execution_count": 4,
   "metadata": {},
   "outputs": [
    {
     "data": {
      "text/plain": [
       "(46362, 180)"
      ]
     },
     "execution_count": 4,
     "metadata": {},
     "output_type": "execute_result"
    }
   ],
   "source": [
    "# restrict modeling to only urban tracts\n",
    "df = df[df['is_urban'] == 1]\n",
    "df.shape"
   ]
  },
  {
   "cell_type": "code",
   "execution_count": 5,
   "metadata": {},
   "outputs": [
    {
     "data": {
      "text/plain": [
       "grid_index             1.000000\n",
       "grid_index_norm        0.999998\n",
       "grid_index_quant       0.929088\n",
       "prop_4way              0.903783\n",
       "orientation_entropy    0.869148\n",
       "orientation_order      0.867404\n",
       "length_entropy_log     0.708974\n",
       "prop_deadend           0.690686\n",
       "straightness           0.660091\n",
       "circuity_avg           0.604696\n",
       "Name: grid_index, dtype: float64"
      ]
     },
     "execution_count": 5,
     "metadata": {},
     "output_type": "execute_result"
    }
   ],
   "source": [
    "df.corr()[response].abs().sort_values(ascending=False).head(10)"
   ]
  },
  {
   "cell_type": "markdown",
   "metadata": {},
   "source": [
    "## Modeling"
   ]
  },
  {
   "cell_type": "code",
   "execution_count": 6,
   "metadata": {},
   "outputs": [
    {
     "data": {
      "text/plain": [
       "50"
      ]
     },
     "execution_count": 6,
     "metadata": {},
     "output_type": "execute_result"
    }
   ],
   "source": [
    "# identify the era dummies in the dataframe\n",
    "era_primary_dummies = sorted([c for c in df.columns if 'dummy_primary_' in c and '_1939_earlier' not in c])\n",
    "\n",
    "# get the state dummies\n",
    "states = df['state_abbrev'].unique()\n",
    "state_dummies = states[1:].tolist()\n",
    "#state_dummies = sorted([s for s in states if s != 'CA']) #all but CA\n",
    "len(state_dummies) # there are 51 states + DC"
   ]
  },
  {
   "cell_type": "code",
   "execution_count": 7,
   "metadata": {},
   "outputs": [
    {
     "name": "stdout",
     "output_type": "stream",
     "text": [
      "1382\n",
      "Wall time: 28.2 s\n"
     ]
    }
   ],
   "source": [
    "%%time\n",
    "# create county dummies\n",
    "df['st_county'] = df['state'].astype(str) + df['county'].astype(str)\n",
    "counties = df['st_county'].unique()\n",
    "for county in counties:\n",
    "    df[county] = df['st_county'].map(lambda x: 1 if x==county else 0)\n",
    "\n",
    "county_dummies = counties[1:].tolist()\n",
    "#county_dummies = sorted([c for c in counties if c != '06037']) #all but LA county\n",
    "print(len(county_dummies))"
   ]
  },
  {
   "cell_type": "code",
   "execution_count": 8,
   "metadata": {},
   "outputs": [
    {
     "data": {
      "text/plain": [
       "1382"
      ]
     },
     "execution_count": 8,
     "metadata": {},
     "output_type": "execute_result"
    }
   ],
   "source": [
    "# define which dummies to use as the spatial fixed effects\n",
    "# if including both county + state, you'll get colinearity unless you drop one county from each state?\n",
    "fixed_effects = county_dummies #+ state_dummies\n",
    "len(fixed_effects)"
   ]
  },
  {
   "cell_type": "code",
   "execution_count": 9,
   "metadata": {},
   "outputs": [],
   "source": [
    "def get_response_and_design(df, response, predictors, condition_number=True):\n",
    "    \n",
    "    # select predictors and drop any rows with nulls in the response or predictors\n",
    "    df_model = df.replace([np.inf, -np.inf], np.nan).dropna(subset=predictors + [response])\n",
    "\n",
    "    # create design matrix and response vector (and response as matrix for pysal)\n",
    "    X = df_model[predictors]\n",
    "    y = df_model[response]\n",
    "\n",
    "    # drop columns that are constants (to prevent perfect colinearity)\n",
    "    # this happens if a county has no observations, for instance\n",
    "    X = X.loc[:, X.nunique() != 1]\n",
    "    \n",
    "    # what are the geoids of the observations retained in the response vector + design matrix?\n",
    "    geoids = df_model['geoid'].values\n",
    "    \n",
    "    if condition_number:\n",
    "        cn = np.linalg.cond(zscore(X))\n",
    "        return y, X, geoids, cn\n",
    "    else:\n",
    "        return y, X, geoids"
   ]
  },
  {
   "cell_type": "code",
   "execution_count": 10,
   "metadata": {},
   "outputs": [],
   "source": [
    "def make_pysal_table(model, precision=4, ignore=None):\n",
    "    \n",
    "    try:\n",
    "        idx = model.name_z\n",
    "    except:\n",
    "        idx = model.name_x\n",
    "    \n",
    "    z_stat = np.array(model.z_stat)\n",
    "    table = pd.DataFrame({'beta' : model.betas.flatten(),\n",
    "                          's.e.' : model.std_err,\n",
    "                          'z'    : z_stat[:, 0],\n",
    "                          'p'    : z_stat[:, 1]}, \n",
    "                          index=idx)\n",
    "    \n",
    "    if ignore is not None:\n",
    "        to_drop = [c for c in ignore if c in table.index]\n",
    "        table = table.drop(to_drop, axis='rows')\n",
    "    \n",
    "    return table.round(precision)"
   ]
  },
  {
   "cell_type": "markdown",
   "metadata": {},
   "source": [
    "## Model 0\n",
    "\n",
    "check the grid index vs its components to check its validity"
   ]
  },
  {
   "cell_type": "code",
   "execution_count": 11,
   "metadata": {},
   "outputs": [
    {
     "name": "stdout",
     "output_type": "stream",
     "text": [
      "2.4164221613078656\n",
      "Wall time: 1.8 s\n"
     ]
    }
   ],
   "source": [
    "%%time\n",
    "regressors0 = ['orientation_order', 'prop_4way', 'straightness']\n",
    "predictors0 = regressors0\n",
    "y, X, geoids, cn = get_response_and_design(df, response, predictors0)\n",
    "print(cn)"
   ]
  },
  {
   "cell_type": "code",
   "execution_count": 12,
   "metadata": {},
   "outputs": [
    {
     "name": "stdout",
     "output_type": "stream",
     "text": [
      "0.9722283850827019\n",
      "Wall time: 43 ms\n"
     ]
    }
   ],
   "source": [
    "%%time\n",
    "# estimate the model with OLS\n",
    "result0 = sm.OLS(y, add_constant(X)).fit()\n",
    "print(result0.rsquared)"
   ]
  },
  {
   "cell_type": "markdown",
   "metadata": {},
   "source": [
    "## Model 1a: OLS\n",
    "\n",
    "predict grid index from era dummies, spatial fixed effects, and controls"
   ]
  },
  {
   "cell_type": "code",
   "execution_count": 13,
   "metadata": {},
   "outputs": [
    {
     "name": "stdout",
     "output_type": "stream",
     "text": [
      "186.07665469560646\n",
      "Wall time: 9.64 s\n"
     ]
    }
   ],
   "source": [
    "%%time\n",
    "regressors1 = ['aland', 'pop_density', 'prop_single_fam', 'med_rooms_per_home', #settlement density/scale\n",
    "               'intersect_density', 'length_mean', #street spatial scale\n",
    "               'elevations_iqr', 'grade_mean'] #hilliness\n",
    "predictors1 = era_primary_dummies + regressors1 + fixed_effects\n",
    "y, X, geoids, cn = get_response_and_design(df, response, predictors1)\n",
    "print(cn)"
   ]
  },
  {
   "cell_type": "code",
   "execution_count": 14,
   "metadata": {},
   "outputs": [
    {
     "name": "stdout",
     "output_type": "stream",
     "text": [
      "0.6759778264157833\n",
      "Wall time: 16.2 s\n"
     ]
    }
   ],
   "source": [
    "%%time\n",
    "# estimate the model with OLS\n",
    "result1 = sm.OLS(y, add_constant(X)).fit(cov_type='cluster', cov_kwds={'groups':df.reindex(X.index)['st_county']}) #cluster robust SEs\n",
    "print(result1.rsquared)"
   ]
  },
  {
   "cell_type": "code",
   "execution_count": 15,
   "metadata": {},
   "outputs": [
    {
     "name": "stdout",
     "output_type": "stream",
     "text": [
      "\n",
      "========================================\n",
      "                              grid_index\n",
      "----------------------------------------\n",
      "const                         0.6727*** \n",
      "                              (0.0183)  \n",
      "dummy_primary_prop_1940_49    -0.0396***\n",
      "                              (0.0073)  \n",
      "dummy_primary_prop_1950_59    -0.0848***\n",
      "                              (0.0045)  \n",
      "dummy_primary_prop_1960_69    -0.1422***\n",
      "                              (0.0064)  \n",
      "dummy_primary_prop_1970_79    -0.1746***\n",
      "                              (0.0071)  \n",
      "dummy_primary_prop_1980_89    -0.1984***\n",
      "                              (0.0070)  \n",
      "dummy_primary_prop_1990_99    -0.1952***\n",
      "                              (0.0072)  \n",
      "dummy_primary_prop_2000_09    -0.1566***\n",
      "                              (0.0080)  \n",
      "dummy_primary_prop_2010_later -0.1160***\n",
      "                              (0.0120)  \n",
      "aland                         -5.8740***\n",
      "                              (0.7031)  \n",
      "pop_density                   0.0048*** \n",
      "                              (0.0012)  \n",
      "prop_single_fam               0.0400*** \n",
      "                              (0.0139)  \n",
      "med_rooms_per_home            -0.0279***\n",
      "                              (0.0025)  \n",
      "intersect_density             0.0011*** \n",
      "                              (0.0002)  \n",
      "length_mean                   0.0004*** \n",
      "                              (0.0001)  \n",
      "elevations_iqr                -0.0014***\n",
      "                              (0.0004)  \n",
      "grade_mean                    -1.8187** \n",
      "                              (0.7172)  \n",
      "========================================\n",
      "Standard errors in parentheses.\n",
      "* p<.1, ** p<.05, ***p<.01\n"
     ]
    }
   ],
   "source": [
    "regressors = pd.Series(['const'] + era_primary_dummies + regressors1).drop_duplicates(keep='first').tolist()\n",
    "print(summary_col(results=result1, regressor_order=regressors, drop_omitted=True, stars=True))"
   ]
  },
  {
   "cell_type": "markdown",
   "metadata": {},
   "source": [
    "## Model 1b: spatially explicit version"
   ]
  },
  {
   "cell_type": "code",
   "execution_count": 16,
   "metadata": {},
   "outputs": [
    {
     "name": "stdout",
     "output_type": "stream",
     "text": [
      "Wall time: 51.5 s\n"
     ]
    }
   ],
   "source": [
    "%%time\n",
    "# calculate spatial weights matrix for spatially-explicit alternative specification\n",
    "W1 = weights.Queen.from_dataframe(gdf.loc[geoids], silence_warnings=True)\n",
    "W1.transform = 'r'"
   ]
  },
  {
   "cell_type": "code",
   "execution_count": 17,
   "metadata": {},
   "outputs": [
    {
     "name": "stdout",
     "output_type": "stream",
     "text": [
      "Wall time: 12 ms\n"
     ]
    }
   ],
   "source": [
    "%%time\n",
    "# check ols diagnostics to see nature of spatial dependence\n",
    "Y = pd.DataFrame(y)\n",
    "if spat_diag:\n",
    "    ols = spreg.ols.OLS(y=Y.values, x=X.values, w=W1, spat_diag=True, moran=True)\n",
    "    print(ols.moran_res)\n",
    "    print(ols.rlm_lag, ols.rlm_error)"
   ]
  },
  {
   "cell_type": "code",
   "execution_count": 18,
   "metadata": {},
   "outputs": [
    {
     "name": "stdout",
     "output_type": "stream",
     "text": [
      "Wall time: 270 ms\n"
     ]
    }
   ],
   "source": [
    "%%time\n",
    "# spatial lag model uses w*Y as endogenous var\n",
    "wY = weights.lag_spatial(W1, Y)\n",
    "\n",
    "# use w*X and w*w*X as instruments for 2SLS\n",
    "# do not include spatial fixed effects (as w*X wouldn't make sense with them in it)\n",
    "wX = weights.lag_spatial(W1, X[regressors1 + era_primary_dummies])\n",
    "wwX = weights.lag_spatial(W1, wX)\n",
    "q = np.concatenate([wX, wwX], axis=1)"
   ]
  },
  {
   "cell_type": "code",
   "execution_count": 19,
   "metadata": {},
   "outputs": [
    {
     "name": "stdout",
     "output_type": "stream",
     "text": [
      "0.7371895795439457\n",
      "46208\n",
      "                                 beta    s.e.        z       p\n",
      "CONSTANT                       0.4633  0.0421  11.0146  0.0000\n",
      "dummy_primary_prop_1940_49    -0.0352  0.0036  -9.7613  0.0000\n",
      "dummy_primary_prop_1950_59    -0.0686  0.0021 -33.0310  0.0000\n",
      "dummy_primary_prop_1960_69    -0.1113  0.0025 -44.4440  0.0000\n",
      "dummy_primary_prop_1970_79    -0.1340  0.0025 -53.5477  0.0000\n",
      "dummy_primary_prop_1980_89    -0.1513  0.0028 -54.0873  0.0000\n",
      "dummy_primary_prop_1990_99    -0.1488  0.0030 -49.0817  0.0000\n",
      "dummy_primary_prop_2000_09    -0.1184  0.0033 -36.1642  0.0000\n",
      "dummy_primary_prop_2010_later -0.0901  0.0077 -11.6387  0.0000\n",
      "aland                         -5.0168  0.2490 -20.1480  0.0000\n",
      "pop_density                    0.0039  0.0003  13.7185  0.0000\n",
      "prop_single_fam                0.0457  0.0036  12.7644  0.0000\n",
      "med_rooms_per_home            -0.0220  0.0008 -27.4103  0.0000\n",
      "intersect_density              0.0009  0.0000  20.8408  0.0000\n",
      "length_mean                    0.0003  0.0000   9.0840  0.0000\n",
      "elevations_iqr                -0.0012  0.0003  -4.0072  0.0001\n",
      "grade_mean                    -1.4293  0.5353  -2.6701  0.0076\n",
      "endogenous_1                   0.3316  0.0101  32.7962  0.0000\n",
      "Wall time: 11 s\n"
     ]
    }
   ],
   "source": [
    "%%time\n",
    "# spatial lag model via TSLS\n",
    "# can't use GM_Lag here, because it doesn't let you use a reduced set of X's columns as instruments (to avoid including spatial fixed effects)\n",
    "tsls_model1 = spreg.twosls.TSLS(y=Y.values, x=X.values, w=W1, name_w='W1', yend=wY, q=q, robust='white', spat_diag=True,\n",
    "                                name_x=X.columns.tolist(), name_y=response)\n",
    "\n",
    "table1 = make_pysal_table(tsls_model1, ignore=fixed_effects)\n",
    "print(tsls_model1.pr2)\n",
    "print(tsls_model1.n)\n",
    "print(table1)"
   ]
  },
  {
   "cell_type": "markdown",
   "metadata": {},
   "source": [
    "Above estimation uses 'white' method to compute robust std errors. This is important as heterogeneity otherwise will make the SEs unrealistically small and artificially inflate our precision. White is robust against heterogeneity across the dataset, but may need cluster-robust method instead to account for heterogeneity within/between groups (as our fixed effects are county-level)? statsmodels offer cluster-robust std err calculation (see earlier model above), but pysal doesn't seem to?"
   ]
  },
  {
   "cell_type": "code",
   "execution_count": 20,
   "metadata": {},
   "outputs": [
    {
     "data": {
      "text/plain": [
       "(361.6331636474842, 1.2415650508681393e-80)"
      ]
     },
     "execution_count": 20,
     "metadata": {},
     "output_type": "execute_result"
    }
   ],
   "source": [
    "# if significant, spatial error autocorrelation is present\n",
    "tsls_model1.ak_test\n",
    "\n",
    "# you might want a combo model if ak stat is significant\n",
    "# and if the combo model parameter estimates differ greatly from the TSLS spatial lag model\n",
    "# you can't run GM_Combo_Het with spatial fixed effects \n",
    "# because it doesn't let you use a reduced set of X's columns as instruments (to avoid including spatial fixed effects)\n",
    "# instead, mimic the TSLS approach above, via GM_Endog_Error_Het\n",
    "# (but if you run the line below, you see similar parameter estimates, so this is unnecessary)\n",
    "#combo_model = spreg.GM_Endog_Error_Het(y=Y.values, x=X.values, w=W1, name_w='W1', yend=wY, q=q,\n",
    "#                                       name_x=X.columns.tolist(), name_y=response)"
   ]
  },
  {
   "cell_type": "code",
   "execution_count": 21,
   "metadata": {},
   "outputs": [],
   "source": [
    "table1.to_csv('data/table1.csv', index=True)"
   ]
  },
  {
   "cell_type": "markdown",
   "metadata": {},
   "source": [
    "#### Interpret total, direct, and indirect effects of spatial lag model\n",
    "\n",
    "Spatial lag model coefficients are not purely marginal effects:\n",
    "\n",
    "  - we're also interested in the total effect of a unit change in predictor k on the response\n",
    "  - total effect = direct effect (k's estimated coefficient) + indirect effect (spatial spillover)\n",
    "  - total effect is the change in response if you make a unit change in k at all locations simultaneously\n",
    "  - direct effect is what happens locally if you make a change (in k) at that one location\n",
    "  - indirect effect is the local effect of spillover from making that change at all other locations"
   ]
  },
  {
   "cell_type": "code",
   "execution_count": 22,
   "metadata": {},
   "outputs": [
    {
     "data": {
      "text/html": [
       "<div>\n",
       "<style scoped>\n",
       "    .dataframe tbody tr th:only-of-type {\n",
       "        vertical-align: middle;\n",
       "    }\n",
       "\n",
       "    .dataframe tbody tr th {\n",
       "        vertical-align: top;\n",
       "    }\n",
       "\n",
       "    .dataframe thead th {\n",
       "        text-align: right;\n",
       "    }\n",
       "</style>\n",
       "<table border=\"1\" class=\"dataframe\">\n",
       "  <thead>\n",
       "    <tr style=\"text-align: right;\">\n",
       "      <th></th>\n",
       "      <th>TE</th>\n",
       "      <th>DE</th>\n",
       "      <th>IE</th>\n",
       "    </tr>\n",
       "  </thead>\n",
       "  <tbody>\n",
       "    <tr>\n",
       "      <th>CONSTANT</th>\n",
       "      <td>0.693217</td>\n",
       "      <td>0.463314</td>\n",
       "      <td>0.229904</td>\n",
       "    </tr>\n",
       "    <tr>\n",
       "      <th>dummy_primary_prop_1940_49</th>\n",
       "      <td>-0.052741</td>\n",
       "      <td>-0.035250</td>\n",
       "      <td>-0.017491</td>\n",
       "    </tr>\n",
       "    <tr>\n",
       "      <th>dummy_primary_prop_1950_59</th>\n",
       "      <td>-0.102676</td>\n",
       "      <td>-0.068624</td>\n",
       "      <td>-0.034052</td>\n",
       "    </tr>\n",
       "    <tr>\n",
       "      <th>dummy_primary_prop_1960_69</th>\n",
       "      <td>-0.166500</td>\n",
       "      <td>-0.111281</td>\n",
       "      <td>-0.055219</td>\n",
       "    </tr>\n",
       "    <tr>\n",
       "      <th>dummy_primary_prop_1970_79</th>\n",
       "      <td>-0.200532</td>\n",
       "      <td>-0.134026</td>\n",
       "      <td>-0.066506</td>\n",
       "    </tr>\n",
       "    <tr>\n",
       "      <th>dummy_primary_prop_1980_89</th>\n",
       "      <td>-0.226336</td>\n",
       "      <td>-0.151273</td>\n",
       "      <td>-0.075064</td>\n",
       "    </tr>\n",
       "    <tr>\n",
       "      <th>dummy_primary_prop_1990_99</th>\n",
       "      <td>-0.222687</td>\n",
       "      <td>-0.148834</td>\n",
       "      <td>-0.073854</td>\n",
       "    </tr>\n",
       "    <tr>\n",
       "      <th>dummy_primary_prop_2000_09</th>\n",
       "      <td>-0.177219</td>\n",
       "      <td>-0.118445</td>\n",
       "      <td>-0.058774</td>\n",
       "    </tr>\n",
       "    <tr>\n",
       "      <th>dummy_primary_prop_2010_later</th>\n",
       "      <td>-0.134873</td>\n",
       "      <td>-0.090143</td>\n",
       "      <td>-0.044730</td>\n",
       "    </tr>\n",
       "    <tr>\n",
       "      <th>aland</th>\n",
       "      <td>-7.506238</td>\n",
       "      <td>-5.016816</td>\n",
       "      <td>-2.489422</td>\n",
       "    </tr>\n",
       "    <tr>\n",
       "      <th>pop_density</th>\n",
       "      <td>0.005840</td>\n",
       "      <td>0.003903</td>\n",
       "      <td>0.001937</td>\n",
       "    </tr>\n",
       "    <tr>\n",
       "      <th>prop_single_fam</th>\n",
       "      <td>0.068432</td>\n",
       "      <td>0.045737</td>\n",
       "      <td>0.022695</td>\n",
       "    </tr>\n",
       "    <tr>\n",
       "      <th>med_rooms_per_home</th>\n",
       "      <td>-0.032881</td>\n",
       "      <td>-0.021976</td>\n",
       "      <td>-0.010905</td>\n",
       "    </tr>\n",
       "    <tr>\n",
       "      <th>intersect_density</th>\n",
       "      <td>0.001283</td>\n",
       "      <td>0.000857</td>\n",
       "      <td>0.000425</td>\n",
       "    </tr>\n",
       "    <tr>\n",
       "      <th>length_mean</th>\n",
       "      <td>0.000477</td>\n",
       "      <td>0.000319</td>\n",
       "      <td>0.000158</td>\n",
       "    </tr>\n",
       "    <tr>\n",
       "      <th>elevations_iqr</th>\n",
       "      <td>-0.001818</td>\n",
       "      <td>-0.001215</td>\n",
       "      <td>-0.000603</td>\n",
       "    </tr>\n",
       "    <tr>\n",
       "      <th>grade_mean</th>\n",
       "      <td>-2.138575</td>\n",
       "      <td>-1.429323</td>\n",
       "      <td>-0.709252</td>\n",
       "    </tr>\n",
       "  </tbody>\n",
       "</table>\n",
       "</div>"
      ],
      "text/plain": [
       "                                     TE        DE        IE\n",
       "CONSTANT                       0.693217  0.463314  0.229904\n",
       "dummy_primary_prop_1940_49    -0.052741 -0.035250 -0.017491\n",
       "dummy_primary_prop_1950_59    -0.102676 -0.068624 -0.034052\n",
       "dummy_primary_prop_1960_69    -0.166500 -0.111281 -0.055219\n",
       "dummy_primary_prop_1970_79    -0.200532 -0.134026 -0.066506\n",
       "dummy_primary_prop_1980_89    -0.226336 -0.151273 -0.075064\n",
       "dummy_primary_prop_1990_99    -0.222687 -0.148834 -0.073854\n",
       "dummy_primary_prop_2000_09    -0.177219 -0.118445 -0.058774\n",
       "dummy_primary_prop_2010_later -0.134873 -0.090143 -0.044730\n",
       "aland                         -7.506238 -5.016816 -2.489422\n",
       "pop_density                    0.005840  0.003903  0.001937\n",
       "prop_single_fam                0.068432  0.045737  0.022695\n",
       "med_rooms_per_home            -0.032881 -0.021976 -0.010905\n",
       "intersect_density              0.001283  0.000857  0.000425\n",
       "length_mean                    0.000477  0.000319  0.000158\n",
       "elevations_iqr                -0.001818 -0.001215 -0.000603\n",
       "grade_mean                    -2.138575 -1.429323 -0.709252"
      ]
     },
     "execution_count": 22,
     "metadata": {},
     "output_type": "execute_result"
    }
   ],
   "source": [
    "def impacts(variable, model):\n",
    "    idx = model.name_x.index(variable)\n",
    "    direct_effect = model.betas[idx][0]\n",
    "    rho = tsls_model1.betas[-1, 0]\n",
    "    total_effect = direct_effect / (1 - rho)\n",
    "    indirect_effect = total_effect - direct_effect\n",
    "    return total_effect, direct_effect, indirect_effect\n",
    "\n",
    "effects = {}\n",
    "for variable in [c for c in tsls_model1.name_x if c not in fixed_effects]:\n",
    "    effects[variable] = impacts(variable, tsls_model1)\n",
    "pd.DataFrame(effects, index=['TE', 'DE', 'IE']).T"
   ]
  },
  {
   "cell_type": "code",
   "execution_count": null,
   "metadata": {},
   "outputs": [],
   "source": []
  }
 ],
 "metadata": {
  "kernelspec": {
   "display_name": "Python (ox)",
   "language": "python",
   "name": "ox"
  },
  "language_info": {
   "codemirror_mode": {
    "name": "ipython",
    "version": 3
   },
   "file_extension": ".py",
   "mimetype": "text/x-python",
   "name": "python",
   "nbconvert_exporter": "python",
   "pygments_lexer": "ipython3",
   "version": "3.8.3"
  }
 },
 "nbformat": 4,
 "nbformat_minor": 4
}
