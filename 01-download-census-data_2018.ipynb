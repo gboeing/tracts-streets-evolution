{
 "cells": [
  {
   "cell_type": "markdown",
   "metadata": {},
   "source": [
    "DP vars: https://api.census.gov/data/2018/acs/acs5/profile/variables.html\n",
    "\n",
    "All ACS5 vars: https://api.census.gov/data/2018/acs/acs5/variables.html"
   ]
  },
  {
   "cell_type": "code",
   "execution_count": 1,
   "metadata": {},
   "outputs": [],
   "source": [
    "import geopandas  as gpd\n",
    "import get_census as gc\n",
    "import json\n",
    "import os\n",
    "import pandas as pd\n",
    "from keys import census_api_key"
   ]
  },
  {
   "cell_type": "code",
   "execution_count": 2,
   "metadata": {},
   "outputs": [],
   "source": [
    "# which vintage year\n",
    "year = 2018\n",
    "\n",
    "# which census dp variables to retrieve for each tract\n",
    "dp_vars = ['DP05_0001E',    #total pop\n",
    "           'DP04_0045E',    #occupied housing units\n",
    "           'DP05_0077PE',   #pct pop non-hispanic white alone\n",
    "           'DP02_0015E',    #avg household size\n",
    "           'DP04_0007PE',   #pct single family detached homes\n",
    "           'DP04_0089E',    #median value of owner occupied units (dollars)\n",
    "           'DP04_0037E',    #median number of rooms in house\n",
    "           'DP03_0062E',    #median household income (infl-adj 2018 usd)\n",
    "           'DP02_0067PE',   #pct bachelor's degree or higher\n",
    "           'DP03_0025E',    #mean travel time to work (minutes)\n",
    "           'DP03_0019PE',   #pct commute drove alone\n",
    "           'DP04_0026PE',   #1939 or earlier (pct housing structure built)\n",
    "           'DP04_0025PE',   #1940-49\n",
    "           'DP04_0024PE',   #1950-59\n",
    "           'DP04_0023PE',   #1960-69\n",
    "           'DP04_0022PE',   #1970-79\n",
    "           'DP04_0021PE',   #1980-89\n",
    "           'DP04_0020PE',   #1990-99\n",
    "           'DP04_0019PE',   #2000-09\n",
    "           'DP04_0018PE',   #2010-13\n",
    "           'DP04_0017PE']   #2014 or later\n",
    "\n",
    "# and pull anything not available from the dp separately and directly from the acs\n",
    "acs_vars = ['B25046_001E']  #aggregate number of vehicles available (across all housing tenure types)"
   ]
  },
  {
   "cell_type": "code",
   "execution_count": 3,
   "metadata": {},
   "outputs": [
    {
     "data": {
      "text/plain": [
       "51"
      ]
     },
     "execution_count": 3,
     "metadata": {},
     "output_type": "execute_result"
    }
   ],
   "source": [
    "# get a list of all state fips codes\n",
    "with open('data/states_by_fips.json') as f:\n",
    "    states_by_fips = json.load(f)\n",
    "non_states = ['American Samoa', 'Canal Zone', 'Guam', 'Puerto Rico', 'Virgin Islands']\n",
    "states_fips = [k for k, v in states_by_fips.items() if v['name'] not in non_states]\n",
    "len(states_fips)"
   ]
  },
  {
   "cell_type": "code",
   "execution_count": 4,
   "metadata": {},
   "outputs": [
    {
     "name": "stdout",
     "output_type": "stream",
     "text": [
      "01 02 04 05 06 08 09 10 11 12 13 15 16 17 18 19 20 21 22 23 24 25 26 27 28 29 30 31 32 33 34 35 36 37 38 39 40 41 42 44 45 46 47 48 49 50 51 53 54 55 56 CPU times: user 4.24 s, sys: 80 ms, total: 4.32 s\n",
      "Wall time: 59.8 s\n"
     ]
    }
   ],
   "source": [
    "%%time\n",
    "# get the acs data, one state at a time, for all tracts in each state\n",
    "df_acs = gc.download_census(api_key=census_api_key, dataset='acs/acs5', year=year, variables=acs_vars,\n",
    "                            states=states_fips, clean=True, print_mode='state')"
   ]
  },
  {
   "cell_type": "code",
   "execution_count": 5,
   "metadata": {},
   "outputs": [
    {
     "name": "stdout",
     "output_type": "stream",
     "text": [
      "01 02 04 05 06 08 09 10 11 12 13 15 16 17 18 19 20 21 22 23 24 25 26 27 28 29 30 31 32 33 34 35 36 37 38 39 40 41 42 44 45 46 47 48 49 50 51 53 54 55 56 CPU times: user 10.5 s, sys: 350 ms, total: 10.8 s\n",
      "Wall time: 1min 59s\n"
     ]
    }
   ],
   "source": [
    "%%time\n",
    "# get the acs dp data, one state at a time, for all tracts in each state\n",
    "df_dp = gc.download_census(api_key=census_api_key, dataset='acs/acs5/profile', year=year, variables=dp_vars, \n",
    "                           states=states_fips, clean=True, print_mode='state')"
   ]
  },
  {
   "cell_type": "code",
   "execution_count": 6,
   "metadata": {},
   "outputs": [
    {
     "data": {
      "text/plain": [
       "73056"
      ]
     },
     "execution_count": 6,
     "metadata": {},
     "output_type": "execute_result"
    }
   ],
   "source": [
    "# map census vars to friendly names\n",
    "cols = {'DP05_0001E'  : 'total_pop',\n",
    "        'DP04_0045E'  : 'occupied_housing_units',\n",
    "        'DP05_0077PE' : 'pct_white',\n",
    "        'DP02_0015E'  : 'mean_household_size',\n",
    "        'DP04_0007PE' : 'pct_single_fam',\n",
    "        'DP04_0089E'  : 'med_home_value',\n",
    "        'DP04_0037E'  : 'med_rooms_per_home',\n",
    "        'DP04_0026PE' : 'pct_1939_earlier',\n",
    "        'DP04_0025PE' : 'pct_1940_49',\n",
    "        'DP04_0024PE' : 'pct_1950_59',\n",
    "        'DP04_0023PE' : 'pct_1960_69',\n",
    "        'DP04_0022PE' : 'pct_1970_79',\n",
    "        'DP04_0021PE' : 'pct_1980_89',\n",
    "        'DP04_0020PE' : 'pct_1990_99',\n",
    "        'DP04_0019PE' : 'pct_2000_09',\n",
    "        'DP04_0018PE' : 'pct_2010_13',\n",
    "        'DP04_0017PE' : 'pct_2014_later',\n",
    "        'DP03_0062E'  : 'med_hh_income',\n",
    "        'DP03_0025E'  : 'mean_commute_time',\n",
    "        'DP03_0019PE' : 'pct_drive_alone',\n",
    "        'DP02_0067PE' : 'pct_bachelors_higher',\n",
    "        'B25046_001E' : 'available_vehicles'}\n",
    "\n",
    "# merge acs+dp dfs, rename columns, check lengths\n",
    "df = pd.merge(left=df_dp, right=df_acs, how='inner', left_index=True, right_index=True).rename(columns=cols)\n",
    "assert len(df) == len(df_acs) == len(df_dp)\n",
    "len(df)"
   ]
  },
  {
   "cell_type": "code",
   "execution_count": 7,
   "metadata": {},
   "outputs": [],
   "source": [
    "# calculate vehicles per capita and per household\n",
    "df['vehicles_per_capita'] = df['available_vehicles'] / df['total_pop']\n",
    "df['vehicles_per_household'] = df['available_vehicles'] / df['occupied_housing_units']"
   ]
  },
  {
   "cell_type": "code",
   "execution_count": 8,
   "metadata": {},
   "outputs": [],
   "source": [
    "# convert percents to proportions\n",
    "for col in df.columns:\n",
    "    if 'pct_' in col:\n",
    "        new_col = col.replace('pct_', 'prop_')\n",
    "        df[new_col] = df[col] / 100\n",
    "        df = df.drop(columns=col)"
   ]
  },
  {
   "cell_type": "code",
   "execution_count": 9,
   "metadata": {},
   "outputs": [],
   "source": [
    "# merge post-2010 structures-built columns into one column\n",
    "df['prop_2010_later'] = df['prop_2010_13'] + df['prop_2014_later']\n",
    "df = df.drop(columns=['prop_2010_13', 'prop_2014_later'])"
   ]
  },
  {
   "cell_type": "code",
   "execution_count": 10,
   "metadata": {},
   "outputs": [],
   "source": [
    "# parse state and county into own columns\n",
    "df['state'] = df.index.map(lambda x: x[0:2])\n",
    "df['county'] = df.index.map(lambda x: x[2:5])"
   ]
  },
  {
   "cell_type": "code",
   "execution_count": 11,
   "metadata": {},
   "outputs": [
    {
     "data": {
      "text/plain": [
       "total_pop                     2028\n",
       "occupied_housing_units         719\n",
       "mean_household_size           2.54\n",
       "med_home_value               93100\n",
       "med_rooms_per_home             5.8\n",
       "med_hh_income                43531\n",
       "mean_commute_time             24.2\n",
       "available_vehicles            1235\n",
       "vehicles_per_capita       0.608974\n",
       "vehicles_per_household     1.71766\n",
       "prop_white                   0.399\n",
       "prop_single_fam              0.826\n",
       "prop_bachelors_higher        0.168\n",
       "prop_drive_alone             0.931\n",
       "prop_1939_earlier            0.154\n",
       "prop_1940_49                 0.082\n",
       "prop_1950_59                  0.02\n",
       "prop_1960_69                 0.211\n",
       "prop_1970_79                 0.308\n",
       "prop_1980_89                 0.034\n",
       "prop_1990_99                 0.112\n",
       "prop_2000_09                  0.08\n",
       "prop_2010_later                  0\n",
       "state                           01\n",
       "county                         001\n",
       "Name: 01001020200, dtype: object"
      ]
     },
     "execution_count": 11,
     "metadata": {},
     "output_type": "execute_result"
    }
   ],
   "source": [
    "# view a sample row\n",
    "df.iloc[1]"
   ]
  },
  {
   "cell_type": "code",
   "execution_count": 12,
   "metadata": {},
   "outputs": [],
   "source": [
    "# save results to disk\n",
    "df.to_csv('data/census_data.csv', index=True, encoding='utf-8')"
   ]
  },
  {
   "cell_type": "code",
   "execution_count": null,
   "metadata": {},
   "outputs": [],
   "source": []
  }
 ],
 "metadata": {
  "kernelspec": {
   "display_name": "Python (ox)",
   "language": "python",
   "name": "ox"
  },
  "language_info": {
   "codemirror_mode": {
    "name": "ipython",
    "version": 3
   },
   "file_extension": ".py",
   "mimetype": "text/x-python",
   "name": "python",
   "nbconvert_exporter": "python",
   "pygments_lexer": "ipython3",
   "version": "3.7.6"
  }
 },
 "nbformat": 4,
 "nbformat_minor": 4
}
