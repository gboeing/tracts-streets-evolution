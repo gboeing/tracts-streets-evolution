{
 "cells": [
  {
   "cell_type": "code",
   "execution_count": 1,
   "metadata": {},
   "outputs": [],
   "source": [
    "import pandas as pd\n",
    "\n",
    "indicators_path = 'data/tracts_indicators_grades_eras_index.csv'"
   ]
  },
  {
   "cell_type": "code",
   "execution_count": 2,
   "metadata": {},
   "outputs": [
    {
     "data": {
      "text/plain": [
       "(72663, 180)"
      ]
     },
     "execution_count": 2,
     "metadata": {},
     "output_type": "execute_result"
    }
   ],
   "source": [
    "df = pd.read_csv(indicators_path, dtype={'geoid':str, 'state':str, 'county':str})\n",
    "df.shape"
   ]
  },
  {
   "cell_type": "code",
   "execution_count": 3,
   "metadata": {},
   "outputs": [
    {
     "data": {
      "text/plain": [
       "7800"
      ]
     },
     "execution_count": 3,
     "metadata": {},
     "output_type": "execute_result"
    }
   ],
   "source": [
    "mask_1990s = df['dummy_primary_prop_1990_99'] == 1\n",
    "sum(mask_1990s)"
   ]
  },
  {
   "cell_type": "code",
   "execution_count": 4,
   "metadata": {},
   "outputs": [
    {
     "data": {
      "text/plain": [
       "7528"
      ]
     },
     "execution_count": 4,
     "metadata": {},
     "output_type": "execute_result"
    }
   ],
   "source": [
    "mask_2000s = (df['dummy_primary_prop_2000_09'] == 1) | (df['dummy_primary_prop_2010_later'] == 1)\n",
    "sum(mask_2000s)"
   ]
  },
  {
   "cell_type": "code",
   "execution_count": 5,
   "metadata": {},
   "outputs": [
    {
     "data": {
      "text/plain": [
       "state_abbrev\n",
       "ND   -0.115580\n",
       "NH   -0.075780\n",
       "ME   -0.044245\n",
       "RI   -0.030437\n",
       "IA   -0.024198\n",
       "KS   -0.013483\n",
       "DE   -0.011308\n",
       "NE   -0.009621\n",
       "UT   -0.001662\n",
       "CT   -0.001409\n",
       "NV   -0.000245\n",
       "TX    0.002617\n",
       "MI    0.004387\n",
       "AZ    0.006957\n",
       "MO    0.008977\n",
       "WI    0.010326\n",
       "HI    0.011200\n",
       "AR    0.016453\n",
       "VT    0.019324\n",
       "GA    0.020733\n",
       "PA    0.023009\n",
       "SC    0.023227\n",
       "NC    0.024060\n",
       "OR    0.026152\n",
       "IN    0.026454\n",
       "OH    0.028384\n",
       "NM    0.029313\n",
       "MN    0.029655\n",
       "FL    0.032313\n",
       "MD    0.033398\n",
       "ID    0.033905\n",
       "VA    0.037648\n",
       "OK    0.041056\n",
       "KY    0.041333\n",
       "MT    0.043117\n",
       "WY    0.044186\n",
       "AL    0.045114\n",
       "WA    0.045948\n",
       "SD    0.046595\n",
       "CO    0.050776\n",
       "TN    0.058509\n",
       "IL    0.058609\n",
       "WV    0.061447\n",
       "LA    0.063929\n",
       "CA    0.064532\n",
       "MS    0.068419\n",
       "AK    0.089833\n",
       "MA    0.108582\n",
       "NJ    0.148274\n",
       "NY    0.172431\n",
       "DC    0.330258\n",
       "Name: grid_index, dtype: float64"
      ]
     },
     "execution_count": 5,
     "metadata": {},
     "output_type": "execute_result"
    }
   ],
   "source": [
    "indicator_2000s = df[mask_2000s].groupby('state_abbrev')['grid_index'].mean().sort_values()\n",
    "indicator_1990s = df[mask_1990s].groupby('state_abbrev')['grid_index'].mean().sort_values()\n",
    "(indicator_2000s - indicator_1990s).sort_values()"
   ]
  },
  {
   "cell_type": "code",
   "execution_count": null,
   "metadata": {},
   "outputs": [],
   "source": []
  }
 ],
 "metadata": {
  "kernelspec": {
   "display_name": "Python (ox)",
   "language": "python",
   "name": "ox"
  },
  "language_info": {
   "codemirror_mode": {
    "name": "ipython",
    "version": 3
   },
   "file_extension": ".py",
   "mimetype": "text/x-python",
   "name": "python",
   "nbconvert_exporter": "python",
   "pygments_lexer": "ipython3",
   "version": "3.8.3"
  }
 },
 "nbformat": 4,
 "nbformat_minor": 4
}
